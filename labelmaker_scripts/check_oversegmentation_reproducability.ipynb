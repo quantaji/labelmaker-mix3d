{
 "cells": [
  {
   "cell_type": "code",
   "execution_count": 1,
   "metadata": {},
   "outputs": [],
   "source": [
    "import json\n",
    "import numpy as np"
   ]
  },
  {
   "cell_type": "code",
   "execution_count": 2,
   "metadata": {},
   "outputs": [],
   "source": [
    "def load_segments(file_path):\n",
    "    with open(file_path, \"r\") as file:\n",
    "        segments = json.load(file)\n",
    "    segments = np.array(segments[\"segIndices\"])\n",
    "    segment_ids = np.unique(segments, return_inverse=True)[1]\n",
    "    return segment_ids"
   ]
  },
  {
   "cell_type": "code",
   "execution_count": 7,
   "metadata": {},
   "outputs": [],
   "source": [
    "def refine_segmentation(labels, segments):\n",
    "    for sg in np.unique(segments):\n",
    "        vote, count = np.unique(labels[segments == sg], return_counts=True)\n",
    "        max_count = np.argmax(count)\n",
    "        max_vote = vote[max_count]\n",
    "        labels[segments == sg] = max_vote\n",
    "    return labels"
   ]
  },
  {
   "cell_type": "code",
   "execution_count": 5,
   "metadata": {},
   "outputs": [],
   "source": [
    "from pathlib import Path\n",
    "# test_dir = Path(\"/home/guangda/scannet_rsync/scans_test\")\n",
    "test_dir = Path(\"/home/guangda/scannet_rsync/scans\")\n",
    "test_scans = list(test_dir.glob('*'))"
   ]
  },
  {
   "cell_type": "code",
   "execution_count": 13,
   "metadata": {},
   "outputs": [
    {
     "name": "stderr",
     "output_type": "stream",
     "text": [
      "100%|██████████| 1513/1513 [05:54<00:00,  4.27it/s]\n"
     ]
    }
   ],
   "source": [
    "import subprocess\n",
    "import os\n",
    "from tqdm import tqdm\n",
    "\n",
    "for test_scan in tqdm(test_scans):\n",
    "    scene_id = test_scan.name\n",
    "\n",
    "    new_segments_path = test_scan / f\"{scene_id}_vh_clean_2.0.010000.segs.json\"\n",
    "    original_segments_path = test_scan / f\"{scene_id}_vh_clean_2.0.010000.segs.json.original\"\n",
    "\n",
    "    new_segments = load_segments(str(new_segments_path))\n",
    "    original_segments = load_segments(str(original_segments_path))\n",
    "\n",
    "    # print(new_segments.shape)\n",
    "\n",
    "    pseudo_label = np.random.randint(low=0, high=1024, size=(new_segments.shape[0],))\n",
    "\n",
    "    # print(new_segments, original_segments)\n",
    "    original_refined_labels = refine_segmentation(labels=pseudo_label, segments=original_segments)\n",
    "    new_refined_labels = refine_segmentation(labels=pseudo_label, segments=new_segments)\n",
    "\n",
    "    if (original_refined_labels != new_refined_labels).mean() > 0.0:\n",
    "        print(test_scan)"
   ]
  },
  {
   "cell_type": "code",
   "execution_count": 14,
   "metadata": {},
   "outputs": [
    {
     "data": {
      "text/plain": [
       "(array([498, 498, 498, ..., 235,  38,  38]),\n",
       " array([498, 498, 498, ..., 235,  38,  38]))"
      ]
     },
     "execution_count": 14,
     "metadata": {},
     "output_type": "execute_result"
    }
   ],
   "source": [
    "original_refined_labels,new_refined_labels"
   ]
  },
  {
   "cell_type": "code",
   "execution_count": null,
   "metadata": {},
   "outputs": [],
   "source": []
  }
 ],
 "metadata": {
  "kernelspec": {
   "display_name": "labelmaker-mix3d",
   "language": "python",
   "name": "python3"
  },
  "language_info": {
   "codemirror_mode": {
    "name": "ipython",
    "version": 3
   },
   "file_extension": ".py",
   "mimetype": "text/x-python",
   "name": "python",
   "nbconvert_exporter": "python",
   "pygments_lexer": "ipython3",
   "version": "3.9.18"
  }
 },
 "nbformat": 4,
 "nbformat_minor": 2
}
