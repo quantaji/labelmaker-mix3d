{
 "cells": [
  {
   "cell_type": "code",
   "execution_count": 1,
   "metadata": {},
   "outputs": [],
   "source": [
    "old_ckpt_pth = \"/home/guangda/repos/labelmaker-mix3d/saved/baseline_arkitscenes/2024-02-19_1444/1b9abe1d/20419e2c_5d34/epoch=499-val_IoU_0=0.237.ckpt\"\n",
    "new_ckpt_pth = \"/home/guangda/repos/labelmaker-mix3d/saved/baseline_scannet/2024-02-23_2204/0c05e966/6fe1811e_0348/epoch=6-val_IoU_0=0.439.ckpt\""
   ]
  },
  {
   "cell_type": "code",
   "execution_count": 2,
   "metadata": {},
   "outputs": [],
   "source": [
    "import torch\n",
    "old = torch.load(old_ckpt_pth)['state_dict']\n",
    "new = torch.load(new_ckpt_pth)['state_dict']"
   ]
  },
  {
   "cell_type": "code",
   "execution_count": 10,
   "metadata": {},
   "outputs": [
    {
     "name": "stdout",
     "output_type": "stream",
     "text": [
      "model.final.kernel\n",
      "model.final.bias\n"
     ]
    }
   ],
   "source": [
    "for key in old.keys():\n",
    "    if old[key].shape != new[key].shape:\n",
    "        print(key)\n",
    "    elif (old[key] - new[key]).abs().float().mean() > 1e-4 and \"bn\" not in key:\n",
    "        # print(old[key] - new[key])\n",
    "        print(key)"
   ]
  },
  {
   "cell_type": "code",
   "execution_count": 4,
   "metadata": {},
   "outputs": [
    {
     "data": {
      "text/plain": [
       "odict_keys(['model.conv0p1s1.kernel', 'model.bn0.bn.weight', 'model.bn0.bn.bias', 'model.bn0.bn.running_mean', 'model.bn0.bn.running_var', 'model.bn0.bn.num_batches_tracked', 'model.conv1p1s2.kernel', 'model.bn1.bn.weight', 'model.bn1.bn.bias', 'model.bn1.bn.running_mean', 'model.bn1.bn.running_var', 'model.bn1.bn.num_batches_tracked', 'model.block1.0.conv1.kernel', 'model.block1.0.norm1.bn.weight', 'model.block1.0.norm1.bn.bias', 'model.block1.0.norm1.bn.running_mean', 'model.block1.0.norm1.bn.running_var', 'model.block1.0.norm1.bn.num_batches_tracked', 'model.block1.0.conv2.kernel', 'model.block1.0.norm2.bn.weight', 'model.block1.0.norm2.bn.bias', 'model.block1.0.norm2.bn.running_mean', 'model.block1.0.norm2.bn.running_var', 'model.block1.0.norm2.bn.num_batches_tracked', 'model.block1.1.conv1.kernel', 'model.block1.1.norm1.bn.weight', 'model.block1.1.norm1.bn.bias', 'model.block1.1.norm1.bn.running_mean', 'model.block1.1.norm1.bn.running_var', 'model.block1.1.norm1.bn.num_batches_tracked', 'model.block1.1.conv2.kernel', 'model.block1.1.norm2.bn.weight', 'model.block1.1.norm2.bn.bias', 'model.block1.1.norm2.bn.running_mean', 'model.block1.1.norm2.bn.running_var', 'model.block1.1.norm2.bn.num_batches_tracked', 'model.conv2p2s2.kernel', 'model.bn2.bn.weight', 'model.bn2.bn.bias', 'model.bn2.bn.running_mean', 'model.bn2.bn.running_var', 'model.bn2.bn.num_batches_tracked', 'model.block2.0.conv1.kernel', 'model.block2.0.norm1.bn.weight', 'model.block2.0.norm1.bn.bias', 'model.block2.0.norm1.bn.running_mean', 'model.block2.0.norm1.bn.running_var', 'model.block2.0.norm1.bn.num_batches_tracked', 'model.block2.0.conv2.kernel', 'model.block2.0.norm2.bn.weight', 'model.block2.0.norm2.bn.bias', 'model.block2.0.norm2.bn.running_mean', 'model.block2.0.norm2.bn.running_var', 'model.block2.0.norm2.bn.num_batches_tracked', 'model.block2.0.downsample.0.kernel', 'model.block2.0.downsample.1.bn.weight', 'model.block2.0.downsample.1.bn.bias', 'model.block2.0.downsample.1.bn.running_mean', 'model.block2.0.downsample.1.bn.running_var', 'model.block2.0.downsample.1.bn.num_batches_tracked', 'model.block2.1.conv1.kernel', 'model.block2.1.norm1.bn.weight', 'model.block2.1.norm1.bn.bias', 'model.block2.1.norm1.bn.running_mean', 'model.block2.1.norm1.bn.running_var', 'model.block2.1.norm1.bn.num_batches_tracked', 'model.block2.1.conv2.kernel', 'model.block2.1.norm2.bn.weight', 'model.block2.1.norm2.bn.bias', 'model.block2.1.norm2.bn.running_mean', 'model.block2.1.norm2.bn.running_var', 'model.block2.1.norm2.bn.num_batches_tracked', 'model.block2.2.conv1.kernel', 'model.block2.2.norm1.bn.weight', 'model.block2.2.norm1.bn.bias', 'model.block2.2.norm1.bn.running_mean', 'model.block2.2.norm1.bn.running_var', 'model.block2.2.norm1.bn.num_batches_tracked', 'model.block2.2.conv2.kernel', 'model.block2.2.norm2.bn.weight', 'model.block2.2.norm2.bn.bias', 'model.block2.2.norm2.bn.running_mean', 'model.block2.2.norm2.bn.running_var', 'model.block2.2.norm2.bn.num_batches_tracked', 'model.conv3p4s2.kernel', 'model.bn3.bn.weight', 'model.bn3.bn.bias', 'model.bn3.bn.running_mean', 'model.bn3.bn.running_var', 'model.bn3.bn.num_batches_tracked', 'model.block3.0.conv1.kernel', 'model.block3.0.norm1.bn.weight', 'model.block3.0.norm1.bn.bias', 'model.block3.0.norm1.bn.running_mean', 'model.block3.0.norm1.bn.running_var', 'model.block3.0.norm1.bn.num_batches_tracked', 'model.block3.0.conv2.kernel', 'model.block3.0.norm2.bn.weight', 'model.block3.0.norm2.bn.bias', 'model.block3.0.norm2.bn.running_mean', 'model.block3.0.norm2.bn.running_var', 'model.block3.0.norm2.bn.num_batches_tracked', 'model.block3.0.downsample.0.kernel', 'model.block3.0.downsample.1.bn.weight', 'model.block3.0.downsample.1.bn.bias', 'model.block3.0.downsample.1.bn.running_mean', 'model.block3.0.downsample.1.bn.running_var', 'model.block3.0.downsample.1.bn.num_batches_tracked', 'model.block3.1.conv1.kernel', 'model.block3.1.norm1.bn.weight', 'model.block3.1.norm1.bn.bias', 'model.block3.1.norm1.bn.running_mean', 'model.block3.1.norm1.bn.running_var', 'model.block3.1.norm1.bn.num_batches_tracked', 'model.block3.1.conv2.kernel', 'model.block3.1.norm2.bn.weight', 'model.block3.1.norm2.bn.bias', 'model.block3.1.norm2.bn.running_mean', 'model.block3.1.norm2.bn.running_var', 'model.block3.1.norm2.bn.num_batches_tracked', 'model.block3.2.conv1.kernel', 'model.block3.2.norm1.bn.weight', 'model.block3.2.norm1.bn.bias', 'model.block3.2.norm1.bn.running_mean', 'model.block3.2.norm1.bn.running_var', 'model.block3.2.norm1.bn.num_batches_tracked', 'model.block3.2.conv2.kernel', 'model.block3.2.norm2.bn.weight', 'model.block3.2.norm2.bn.bias', 'model.block3.2.norm2.bn.running_mean', 'model.block3.2.norm2.bn.running_var', 'model.block3.2.norm2.bn.num_batches_tracked', 'model.block3.3.conv1.kernel', 'model.block3.3.norm1.bn.weight', 'model.block3.3.norm1.bn.bias', 'model.block3.3.norm1.bn.running_mean', 'model.block3.3.norm1.bn.running_var', 'model.block3.3.norm1.bn.num_batches_tracked', 'model.block3.3.conv2.kernel', 'model.block3.3.norm2.bn.weight', 'model.block3.3.norm2.bn.bias', 'model.block3.3.norm2.bn.running_mean', 'model.block3.3.norm2.bn.running_var', 'model.block3.3.norm2.bn.num_batches_tracked', 'model.conv4p8s2.kernel', 'model.bn4.bn.weight', 'model.bn4.bn.bias', 'model.bn4.bn.running_mean', 'model.bn4.bn.running_var', 'model.bn4.bn.num_batches_tracked', 'model.block4.0.conv1.kernel', 'model.block4.0.norm1.bn.weight', 'model.block4.0.norm1.bn.bias', 'model.block4.0.norm1.bn.running_mean', 'model.block4.0.norm1.bn.running_var', 'model.block4.0.norm1.bn.num_batches_tracked', 'model.block4.0.conv2.kernel', 'model.block4.0.norm2.bn.weight', 'model.block4.0.norm2.bn.bias', 'model.block4.0.norm2.bn.running_mean', 'model.block4.0.norm2.bn.running_var', 'model.block4.0.norm2.bn.num_batches_tracked', 'model.block4.0.downsample.0.kernel', 'model.block4.0.downsample.1.bn.weight', 'model.block4.0.downsample.1.bn.bias', 'model.block4.0.downsample.1.bn.running_mean', 'model.block4.0.downsample.1.bn.running_var', 'model.block4.0.downsample.1.bn.num_batches_tracked', 'model.block4.1.conv1.kernel', 'model.block4.1.norm1.bn.weight', 'model.block4.1.norm1.bn.bias', 'model.block4.1.norm1.bn.running_mean', 'model.block4.1.norm1.bn.running_var', 'model.block4.1.norm1.bn.num_batches_tracked', 'model.block4.1.conv2.kernel', 'model.block4.1.norm2.bn.weight', 'model.block4.1.norm2.bn.bias', 'model.block4.1.norm2.bn.running_mean', 'model.block4.1.norm2.bn.running_var', 'model.block4.1.norm2.bn.num_batches_tracked', 'model.block4.2.conv1.kernel', 'model.block4.2.norm1.bn.weight', 'model.block4.2.norm1.bn.bias', 'model.block4.2.norm1.bn.running_mean', 'model.block4.2.norm1.bn.running_var', 'model.block4.2.norm1.bn.num_batches_tracked', 'model.block4.2.conv2.kernel', 'model.block4.2.norm2.bn.weight', 'model.block4.2.norm2.bn.bias', 'model.block4.2.norm2.bn.running_mean', 'model.block4.2.norm2.bn.running_var', 'model.block4.2.norm2.bn.num_batches_tracked', 'model.block4.3.conv1.kernel', 'model.block4.3.norm1.bn.weight', 'model.block4.3.norm1.bn.bias', 'model.block4.3.norm1.bn.running_mean', 'model.block4.3.norm1.bn.running_var', 'model.block4.3.norm1.bn.num_batches_tracked', 'model.block4.3.conv2.kernel', 'model.block4.3.norm2.bn.weight', 'model.block4.3.norm2.bn.bias', 'model.block4.3.norm2.bn.running_mean', 'model.block4.3.norm2.bn.running_var', 'model.block4.3.norm2.bn.num_batches_tracked', 'model.block4.4.conv1.kernel', 'model.block4.4.norm1.bn.weight', 'model.block4.4.norm1.bn.bias', 'model.block4.4.norm1.bn.running_mean', 'model.block4.4.norm1.bn.running_var', 'model.block4.4.norm1.bn.num_batches_tracked', 'model.block4.4.conv2.kernel', 'model.block4.4.norm2.bn.weight', 'model.block4.4.norm2.bn.bias', 'model.block4.4.norm2.bn.running_mean', 'model.block4.4.norm2.bn.running_var', 'model.block4.4.norm2.bn.num_batches_tracked', 'model.block4.5.conv1.kernel', 'model.block4.5.norm1.bn.weight', 'model.block4.5.norm1.bn.bias', 'model.block4.5.norm1.bn.running_mean', 'model.block4.5.norm1.bn.running_var', 'model.block4.5.norm1.bn.num_batches_tracked', 'model.block4.5.conv2.kernel', 'model.block4.5.norm2.bn.weight', 'model.block4.5.norm2.bn.bias', 'model.block4.5.norm2.bn.running_mean', 'model.block4.5.norm2.bn.running_var', 'model.block4.5.norm2.bn.num_batches_tracked', 'model.convtr4p16s2.kernel', 'model.bntr4.bn.weight', 'model.bntr4.bn.bias', 'model.bntr4.bn.running_mean', 'model.bntr4.bn.running_var', 'model.bntr4.bn.num_batches_tracked', 'model.block5.0.conv1.kernel', 'model.block5.0.norm1.bn.weight', 'model.block5.0.norm1.bn.bias', 'model.block5.0.norm1.bn.running_mean', 'model.block5.0.norm1.bn.running_var', 'model.block5.0.norm1.bn.num_batches_tracked', 'model.block5.0.conv2.kernel', 'model.block5.0.norm2.bn.weight', 'model.block5.0.norm2.bn.bias', 'model.block5.0.norm2.bn.running_mean', 'model.block5.0.norm2.bn.running_var', 'model.block5.0.norm2.bn.num_batches_tracked', 'model.block5.0.downsample.0.kernel', 'model.block5.0.downsample.1.bn.weight', 'model.block5.0.downsample.1.bn.bias', 'model.block5.0.downsample.1.bn.running_mean', 'model.block5.0.downsample.1.bn.running_var', 'model.block5.0.downsample.1.bn.num_batches_tracked', 'model.block5.1.conv1.kernel', 'model.block5.1.norm1.bn.weight', 'model.block5.1.norm1.bn.bias', 'model.block5.1.norm1.bn.running_mean', 'model.block5.1.norm1.bn.running_var', 'model.block5.1.norm1.bn.num_batches_tracked', 'model.block5.1.conv2.kernel', 'model.block5.1.norm2.bn.weight', 'model.block5.1.norm2.bn.bias', 'model.block5.1.norm2.bn.running_mean', 'model.block5.1.norm2.bn.running_var', 'model.block5.1.norm2.bn.num_batches_tracked', 'model.convtr5p8s2.kernel', 'model.bntr5.bn.weight', 'model.bntr5.bn.bias', 'model.bntr5.bn.running_mean', 'model.bntr5.bn.running_var', 'model.bntr5.bn.num_batches_tracked', 'model.block6.0.conv1.kernel', 'model.block6.0.norm1.bn.weight', 'model.block6.0.norm1.bn.bias', 'model.block6.0.norm1.bn.running_mean', 'model.block6.0.norm1.bn.running_var', 'model.block6.0.norm1.bn.num_batches_tracked', 'model.block6.0.conv2.kernel', 'model.block6.0.norm2.bn.weight', 'model.block6.0.norm2.bn.bias', 'model.block6.0.norm2.bn.running_mean', 'model.block6.0.norm2.bn.running_var', 'model.block6.0.norm2.bn.num_batches_tracked', 'model.block6.0.downsample.0.kernel', 'model.block6.0.downsample.1.bn.weight', 'model.block6.0.downsample.1.bn.bias', 'model.block6.0.downsample.1.bn.running_mean', 'model.block6.0.downsample.1.bn.running_var', 'model.block6.0.downsample.1.bn.num_batches_tracked', 'model.block6.1.conv1.kernel', 'model.block6.1.norm1.bn.weight', 'model.block6.1.norm1.bn.bias', 'model.block6.1.norm1.bn.running_mean', 'model.block6.1.norm1.bn.running_var', 'model.block6.1.norm1.bn.num_batches_tracked', 'model.block6.1.conv2.kernel', 'model.block6.1.norm2.bn.weight', 'model.block6.1.norm2.bn.bias', 'model.block6.1.norm2.bn.running_mean', 'model.block6.1.norm2.bn.running_var', 'model.block6.1.norm2.bn.num_batches_tracked', 'model.convtr6p4s2.kernel', 'model.bntr6.bn.weight', 'model.bntr6.bn.bias', 'model.bntr6.bn.running_mean', 'model.bntr6.bn.running_var', 'model.bntr6.bn.num_batches_tracked', 'model.block7.0.conv1.kernel', 'model.block7.0.norm1.bn.weight', 'model.block7.0.norm1.bn.bias', 'model.block7.0.norm1.bn.running_mean', 'model.block7.0.norm1.bn.running_var', 'model.block7.0.norm1.bn.num_batches_tracked', 'model.block7.0.conv2.kernel', 'model.block7.0.norm2.bn.weight', 'model.block7.0.norm2.bn.bias', 'model.block7.0.norm2.bn.running_mean', 'model.block7.0.norm2.bn.running_var', 'model.block7.0.norm2.bn.num_batches_tracked', 'model.block7.0.downsample.0.kernel', 'model.block7.0.downsample.1.bn.weight', 'model.block7.0.downsample.1.bn.bias', 'model.block7.0.downsample.1.bn.running_mean', 'model.block7.0.downsample.1.bn.running_var', 'model.block7.0.downsample.1.bn.num_batches_tracked', 'model.block7.1.conv1.kernel', 'model.block7.1.norm1.bn.weight', 'model.block7.1.norm1.bn.bias', 'model.block7.1.norm1.bn.running_mean', 'model.block7.1.norm1.bn.running_var', 'model.block7.1.norm1.bn.num_batches_tracked', 'model.block7.1.conv2.kernel', 'model.block7.1.norm2.bn.weight', 'model.block7.1.norm2.bn.bias', 'model.block7.1.norm2.bn.running_mean', 'model.block7.1.norm2.bn.running_var', 'model.block7.1.norm2.bn.num_batches_tracked', 'model.convtr7p2s2.kernel', 'model.bntr7.bn.weight', 'model.bntr7.bn.bias', 'model.bntr7.bn.running_mean', 'model.bntr7.bn.running_var', 'model.bntr7.bn.num_batches_tracked', 'model.block8.0.conv1.kernel', 'model.block8.0.norm1.bn.weight', 'model.block8.0.norm1.bn.bias', 'model.block8.0.norm1.bn.running_mean', 'model.block8.0.norm1.bn.running_var', 'model.block8.0.norm1.bn.num_batches_tracked', 'model.block8.0.conv2.kernel', 'model.block8.0.norm2.bn.weight', 'model.block8.0.norm2.bn.bias', 'model.block8.0.norm2.bn.running_mean', 'model.block8.0.norm2.bn.running_var', 'model.block8.0.norm2.bn.num_batches_tracked', 'model.block8.0.downsample.0.kernel', 'model.block8.0.downsample.1.bn.weight', 'model.block8.0.downsample.1.bn.bias', 'model.block8.0.downsample.1.bn.running_mean', 'model.block8.0.downsample.1.bn.running_var', 'model.block8.0.downsample.1.bn.num_batches_tracked', 'model.block8.1.conv1.kernel', 'model.block8.1.norm1.bn.weight', 'model.block8.1.norm1.bn.bias', 'model.block8.1.norm1.bn.running_mean', 'model.block8.1.norm1.bn.running_var', 'model.block8.1.norm1.bn.num_batches_tracked', 'model.block8.1.conv2.kernel', 'model.block8.1.norm2.bn.weight', 'model.block8.1.norm2.bn.bias', 'model.block8.1.norm2.bn.running_mean', 'model.block8.1.norm2.bn.running_var', 'model.block8.1.norm2.bn.num_batches_tracked', 'model.final.kernel', 'model.final.bias'])"
      ]
     },
     "execution_count": 4,
     "metadata": {},
     "output_type": "execute_result"
    }
   ],
   "source": [
    "old.keys()"
   ]
  },
  {
   "cell_type": "code",
   "execution_count": 5,
   "metadata": {},
   "outputs": [
    {
     "data": {
      "text/plain": [
       "(torch.Size([96, 200]), torch.Size([96, 20]))"
      ]
     },
     "execution_count": 5,
     "metadata": {},
     "output_type": "execute_result"
    }
   ],
   "source": [
    "old['model.final.kernel'].shape, new['model.final.kernel'].shape"
   ]
  },
  {
   "cell_type": "code",
   "execution_count": null,
   "metadata": {},
   "outputs": [],
   "source": []
  }
 ],
 "metadata": {
  "kernelspec": {
   "display_name": "labelmaker-mix3d",
   "language": "python",
   "name": "python3"
  },
  "language_info": {
   "codemirror_mode": {
    "name": "ipython",
    "version": 3
   },
   "file_extension": ".py",
   "mimetype": "text/x-python",
   "name": "python",
   "nbconvert_exporter": "python",
   "pygments_lexer": "ipython3",
   "version": "3.9.18"
  }
 },
 "nbformat": 4,
 "nbformat_minor": 2
}
