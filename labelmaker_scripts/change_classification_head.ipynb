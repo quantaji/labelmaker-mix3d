{
 "cells": [
  {
   "cell_type": "code",
   "execution_count": 1,
   "metadata": {},
   "outputs": [],
   "source": [
    "# ckpt_pth = \"/home/guangda/repos/labelmaker-mix3d/saved/baseline_arkitscenes/2024-02-19_1444/1b9abe1d/20419e2c_5d34/epoch=499-val_IoU_0=0.237.ckpt\"\n",
    "# save_ckpt_pth = \"/home/guangda/repos/labelmaker-mix3d/saved/baseline_arkitscenes/2024-02-19_1444/1b9abe1d/20419e2c_5d34/switch_cls_head=20.ckpt\"\n",
    "\n",
    "ckpt_pth = \"/home/guangda/repos/labelmaker-mix3d/saved/baseline_arkitscenes/2024-02-25_2142/5fa5d3bd/3a2b7843_fd39/epoch=579-val_IoU_0=0.241.ckpt\"\n",
    "save_ckpt_pth = \"/home/guangda/repos/labelmaker-mix3d/saved/baseline_arkitscenes/2024-02-25_2142/5fa5d3bd/3a2b7843_fd39/switch_cls_head=20.ckpt\""
   ]
  },
  {
   "cell_type": "code",
   "execution_count": 4,
   "metadata": {},
   "outputs": [],
   "source": [
    "import torch\n",
    "\n",
    "original_ckpt = torch.load(ckpt_pth)"
   ]
  },
  {
   "cell_type": "code",
   "execution_count": 3,
   "metadata": {},
   "outputs": [
    {
     "data": {
      "text/plain": [
       "torch.Size([125, 3, 32])"
      ]
     },
     "execution_count": 3,
     "metadata": {},
     "output_type": "execute_result"
    }
   ],
   "source": [
    "original_ckpt['state_dict']['model.conv0p1s1.kernel'].shape"
   ]
  },
  {
   "cell_type": "code",
   "execution_count": 4,
   "metadata": {},
   "outputs": [
    {
     "name": "stderr",
     "output_type": "stream",
     "text": [
      "/home/guangda/miniconda3/envs/labelmaker-mix3d/lib/python3.9/site-packages/MinkowskiEngine-0.5.4-py3.9-linux-x86_64.egg/MinkowskiEngine/__init__.py:36: UserWarning: The environment variable `OMP_NUM_THREADS` not set. MinkowskiEngine will automatically set `OMP_NUM_THREADS=16`. If you want to set `OMP_NUM_THREADS` manually, please export it on the command line before running a python script. e.g. `export OMP_NUM_THREADS=12; python your_program.py`. It is recommended to set it below 24.\n",
      "  warnings.warn(\n"
     ]
    }
   ],
   "source": [
    "import os\n",
    "import sys\n",
    "\n",
    "sys.path.append('..')\n",
    "from mix3d.models.res16unet import Res16UNet34C"
   ]
  },
  {
   "cell_type": "code",
   "execution_count": 5,
   "metadata": {},
   "outputs": [],
   "source": [
    "config = type(\"\", (), {})()\n",
    "\n",
    "config.dialations = [1, 1, 1, 1]\n",
    "config.conv1_kernel_size = 5\n",
    "config.bn_momentum = 0.02\n",
    "\n",
    "new_model = Res16UNet34C(\n",
    "    in_channels=3,\n",
    "    out_channels=20,\n",
    "    D=3,\n",
    "    config=config,\n",
    ")"
   ]
  },
  {
   "cell_type": "code",
   "execution_count": 6,
   "metadata": {},
   "outputs": [],
   "source": [
    "original_ckpt[\"state_dict\"][\"model.final.kernel\"] = new_model.state_dict()[\"final.kernel\"]\n",
    "original_ckpt[\"state_dict\"][\"model.final.bias\"] = new_model.state_dict()[\"final.bias\"]"
   ]
  },
  {
   "cell_type": "code",
   "execution_count": 7,
   "metadata": {},
   "outputs": [],
   "source": [
    "torch.save(original_ckpt, save_ckpt_pth)"
   ]
  },
  {
   "cell_type": "code",
   "execution_count": 5,
   "metadata": {},
   "outputs": [],
   "source": [
    "test_ckpt = torch.load(save_ckpt_pth)"
   ]
  },
  {
   "cell_type": "code",
   "execution_count": 6,
   "metadata": {},
   "outputs": [
    {
     "data": {
      "text/plain": [
       "torch.Size([96, 20])"
      ]
     },
     "execution_count": 6,
     "metadata": {},
     "output_type": "execute_result"
    }
   ],
   "source": [
    "test_ckpt['state_dict'][\"model.final.kernel\"].shape"
   ]
  },
  {
   "cell_type": "code",
   "execution_count": null,
   "metadata": {},
   "outputs": [],
   "source": []
  }
 ],
 "metadata": {
  "kernelspec": {
   "display_name": "labelmaker-mix3d",
   "language": "python",
   "name": "python3"
  },
  "language_info": {
   "codemirror_mode": {
    "name": "ipython",
    "version": 3
   },
   "file_extension": ".py",
   "mimetype": "text/x-python",
   "name": "python",
   "nbconvert_exporter": "python",
   "pygments_lexer": "ipython3",
   "version": "3.9.18"
  }
 },
 "nbformat": 4,
 "nbformat_minor": 2
}
