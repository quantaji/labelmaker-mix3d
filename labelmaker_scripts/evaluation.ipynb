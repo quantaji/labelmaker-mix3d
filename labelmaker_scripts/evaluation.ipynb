{
 "cells": [
  {
   "cell_type": "code",
   "execution_count": 1,
   "metadata": {},
   "outputs": [
    {
     "name": "stderr",
     "output_type": "stream",
     "text": [
      "/home/guangda/miniconda3/envs/labelmaker-mix3d/lib/python3.9/site-packages/MinkowskiEngine-0.5.4-py3.9-linux-x86_64.egg/MinkowskiEngine/__init__.py:36: UserWarning: The environment variable `OMP_NUM_THREADS` not set. MinkowskiEngine will automatically set `OMP_NUM_THREADS=16`. If you want to set `OMP_NUM_THREADS` manually, please export it on the command line before running a python script. e.g. `export OMP_NUM_THREADS=12; python your_program.py`. It is recommended to set it below 24.\n",
      "  warnings.warn(\n"
     ]
    }
   ],
   "source": [
    "import os\n",
    "import sys\n",
    "\n",
    "sys.path.append(os.path.abspath('..'))\n",
    "\n",
    "from labelmaker_scripts.scannet_eval import eval_mIoU"
   ]
  },
  {
   "cell_type": "code",
   "execution_count": 2,
   "metadata": {},
   "outputs": [
    {
     "name": "stderr",
     "output_type": "stream",
     "text": [
      "312it [00:02, 123.03it/s]\n"
     ]
    },
    {
     "name": "stdout",
     "output_type": "stream",
     "text": [
      "(49540568,) (49540568,)\n",
      "{\n",
      "    \"mIoU\": 0.7412218904475132,\n",
      "    \"wall\": 0.8555187473692961,\n",
      "    \"floor\": 0.9495612090075843,\n",
      "    \"cabinet\": 0.6988379980534993,\n",
      "    \"bed\": 0.8097604641593454,\n",
      "    \"chair\": 0.903192461585389,\n",
      "    \"sofa\": 0.827036955336539,\n",
      "    \"table\": 0.751677009120345,\n",
      "    \"door\": 0.7043682108749578,\n",
      "    \"window\": 0.6831213844464484,\n",
      "    \"bookshelf\": 0.7977313307925126,\n",
      "    \"picture\": 0.3344980829893783,\n",
      "    \"counter\": 0.6516162765662965,\n",
      "    \"desk\": 0.6610628946803444,\n",
      "    \"curtain\": 0.753374495907772,\n",
      "    \"refrigerator\": 0.609148827409079,\n",
      "    \"shower curtain\": 0.7339860989511676,\n",
      "    \"toilet\": 0.9419972077805281,\n",
      "    \"sink\": 0.6982497082847141,\n",
      "    \"bathtub\": 0.8556048613156719,\n",
      "    \"otherfurniture\": 0.6040935843193954\n",
      "}\n"
     ]
    }
   ],
   "source": [
    "eval_mIoU(\n",
    "    submission_dir=\"/home/guangda/repos/labelmaker-mix3d/saved/evaluation_scannet20/validation_2024-02-29_1114/submission\",\n",
    "    scannet_processed_data_dir=\"/home/guangda/repos/labelmaker-mix3d/data/processed/scannet\",\n",
    "    labelspace=\"scannet\",\n",
    ")"
   ]
  },
  {
   "cell_type": "code",
   "execution_count": null,
   "metadata": {},
   "outputs": [],
   "source": []
  }
 ],
 "metadata": {
  "kernelspec": {
   "display_name": "labelmaker-mix3d",
   "language": "python",
   "name": "python3"
  },
  "language_info": {
   "codemirror_mode": {
    "name": "ipython",
    "version": 3
   },
   "file_extension": ".py",
   "mimetype": "text/x-python",
   "name": "python",
   "nbconvert_exporter": "python",
   "pygments_lexer": "ipython3",
   "version": "3.9.18"
  }
 },
 "nbformat": 4,
 "nbformat_minor": 2
}
