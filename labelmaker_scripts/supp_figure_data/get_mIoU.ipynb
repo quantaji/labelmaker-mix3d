{
 "cells": [
  {
   "cell_type": "code",
   "execution_count": 18,
   "metadata": {},
   "outputs": [],
   "source": [
    "# Initialize dictionaries to store class results\n",
    "class_results_iou = {}\n",
    "class_results_accuracy = {}\n",
    "\n",
    "# Open the log file and read line by line\n",
    "# log_file='logfile.txt'\n",
    "# log_file='log_file_2.txt'\n",
    "log_file='log_file_3.txt'\n",
    "with open(log_file, 'r') as file:\n",
    "    for line in file:\n",
    "        # Split the line by spaces\n",
    "        parts = line.split()\n",
    "        # Extract class name and its corresponding IoU and accuracy\n",
    "        if len(parts) > 11:\n",
    "            class_name = ' '.join(parts[9:-3])\n",
    "            # print(class_name)\n",
    "            iou = float(parts[-1].split('/')[0])\n",
    "            accuracy = float(parts[-1].split('/')[1])\n",
    "            # Store the results in dictionaries\n",
    "            class_results_iou[class_name] = iou\n",
    "            class_results_accuracy[class_name] = accuracy\n",
    "\n",
    "# # Print the results\n",
    "# for class_name, iou in class_results_iou.items():\n",
    "#     accuracy = class_results_accuracy[class_name]\n",
    "#     print(f\"Class {class_name}: IoU = {iou}, Accuracy = {accuracy}\")\n",
    "\n",
    "# name = 'scannet200_ptv3.json'\n",
    "# name = \"scannet_ptv3_ppt.json\"\n",
    "name = \"scannet_ptv3.json\"\n",
    "with open(name, 'w') as f:\n",
    "    import json\n",
    "    json.dump(class_results_iou, f, indent=4)"
   ]
  },
  {
   "cell_type": "code",
   "execution_count": null,
   "metadata": {},
   "outputs": [],
   "source": []
  }
 ],
 "metadata": {
  "kernelspec": {
   "display_name": "labelmaker-mix3d",
   "language": "python",
   "name": "python3"
  },
  "language_info": {
   "codemirror_mode": {
    "name": "ipython",
    "version": 3
   },
   "file_extension": ".py",
   "mimetype": "text/x-python",
   "name": "python",
   "nbconvert_exporter": "python",
   "pygments_lexer": "ipython3",
   "version": "3.9.18"
  }
 },
 "nbformat": 4,
 "nbformat_minor": 2
}
