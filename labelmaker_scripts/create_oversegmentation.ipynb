{
 "cells": [
  {
   "cell_type": "code",
   "execution_count": null,
   "metadata": {},
   "outputs": [],
   "source": [
    "import open3d as o3d\n",
    "from plyfile import PlyData"
   ]
  },
  {
   "cell_type": "code",
   "execution_count": null,
   "metadata": {},
   "outputs": [],
   "source": [
    "%%sh\n",
    "# build segmenter\n",
    "cd /home/guangda/repos/labelmaker-mix3d/data/raw/scannet/ScanNet/Segmentator\n",
    "make"
   ]
  },
  {
   "cell_type": "code",
   "execution_count": null,
   "metadata": {},
   "outputs": [],
   "source": [
    "from pathlib import Path\n",
    "test_dir = Path(\"/home/guangda/scannet_rsync/scans_test\")"
   ]
  },
  {
   "cell_type": "code",
   "execution_count": null,
   "metadata": {},
   "outputs": [],
   "source": [
    "test_scans = list(test_dir.glob('*'))"
   ]
  },
  {
   "cell_type": "code",
   "execution_count": null,
   "metadata": {},
   "outputs": [],
   "source": [
    "import subprocess\n",
    "from tqdm import tqdm\n",
    "\n",
    "for test_scan in tqdm(test_scans):\n",
    "    scene_id = test_scan.name\n",
    "    ply_pth = test_scan / f\"{scene_id}_vh_clean_2.ply\"\n",
    "    subprocess.Popen([\"./segmentator\", str(ply_pth)], cwd=\"/home/guangda/repos/labelmaker-mix3d/data/raw/scannet/ScanNet/Segmentator\")"
   ]
  },
  {
   "cell_type": "code",
   "execution_count": null,
   "metadata": {},
   "outputs": [],
   "source": [
    "import subprocess\n",
    "from tqdm import tqdm\n",
    "\n",
    "for test_scan in tqdm(test_scans):\n",
    "    scene_id = test_scan.name\n",
    "\n",
    "    segments_path = test_scan / f\"{scene_id}_vh_clean_2.0.010000.segs.json\"\n",
    "\n",
    "    if not (segments_path.exists() and segments_path.is_file()):\n",
    "        print(str(segments_path))\n",
    "    # ply_pth = test_scan / f\"{scene_id}_vh_clean_2.ply\"\n",
    "    # subprocess.Popen([\"./segmentator\", str(ply_pth)], cwd=\"/home/guangda/repos/labelmaker-mix3d/data/raw/scannet/ScanNet/Segmentator\")"
   ]
  },
  {
   "cell_type": "code",
   "execution_count": null,
   "metadata": {},
   "outputs": [],
   "source": [
    "import glob"
   ]
  },
  {
   "cell_type": "code",
   "execution_count": null,
   "metadata": {},
   "outputs": [],
   "source": [
    "glob.glob(\"/home/guangda/scannet_rsync/**/**/scene0704_01_vh_clean_2.0.010000.segs.json\")"
   ]
  },
  {
   "cell_type": "code",
   "execution_count": null,
   "metadata": {},
   "outputs": [],
   "source": []
  }
 ],
 "metadata": {
  "kernelspec": {
   "display_name": "labelmaker-mix3d",
   "language": "python",
   "name": "python3"
  },
  "language_info": {
   "codemirror_mode": {
    "name": "ipython",
    "version": 3
   },
   "file_extension": ".py",
   "mimetype": "text/x-python",
   "name": "python",
   "nbconvert_exporter": "python",
   "pygments_lexer": "ipython3",
   "version": "3.9.18"
  }
 },
 "nbformat": 4,
 "nbformat_minor": 2
}
