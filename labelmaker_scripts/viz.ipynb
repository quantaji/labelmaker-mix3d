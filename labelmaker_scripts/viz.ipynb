{
 "cells": [
  {
   "cell_type": "code",
   "execution_count": 1,
   "metadata": {},
   "outputs": [
    {
     "name": "stderr",
     "output_type": "stream",
     "text": [
      "/home/guangda/miniconda3/envs/labelmaker-mix3d/lib/python3.9/site-packages/MinkowskiEngine-0.5.4-py3.9-linux-x86_64.egg/MinkowskiEngine/__init__.py:36: UserWarning: The environment variable `OMP_NUM_THREADS` not set. MinkowskiEngine will automatically set `OMP_NUM_THREADS=16`. If you want to set `OMP_NUM_THREADS` manually, please export it on the command line before running a python script. e.g. `export OMP_NUM_THREADS=12; python your_program.py`. It is recommended to set it below 24.\n",
      "  warnings.warn(\n"
     ]
    }
   ],
   "source": [
    "import os\n",
    "import sys\n",
    "\n",
    "sys.path.append(os.path.abspath('..'))\n",
    "\n",
    "from labelmaker_scripts.visualise_submission import viz_pyviz"
   ]
  },
  {
   "cell_type": "code",
   "execution_count": 2,
   "metadata": {},
   "outputs": [
    {
     "name": "stderr",
     "output_type": "stream",
     "text": [
      "4it [00:00, 15.94it/s]"
     ]
    },
    {
     "name": "stdout",
     "output_type": "stream",
     "text": [
      "\n",
      "************************************************************************\n",
      "1) Start local server:\n",
      "    cd /home/guangda/repos/labelmaker-mix3d/saved/evaluation_scannet20/validation_2024-02-29_1114/pyviz/scene0389_00; python -m http.server 6008\n",
      "2) Open in browser:\n",
      "    http://0.0.0.0:6008\n",
      "************************************************************************\n",
      "\n",
      "************************************************************************\n",
      "1) Start local server:\n",
      "    cd /home/guangda/repos/labelmaker-mix3d/saved/evaluation_scannet20/validation_2024-02-29_1114/pyviz/scene0086_00; python -m http.server 6008\n",
      "2) Open in browser:\n",
      "    http://0.0.0.0:6008\n",
      "************************************************************************\n",
      "\n",
      "************************************************************************\n",
      "1) Start local server:\n",
      "    cd /home/guangda/repos/labelmaker-mix3d/saved/evaluation_scannet20/validation_2024-02-29_1114/pyviz/scene0081_00; python -m http.server 6008\n",
      "2) Open in browser:\n",
      "    http://0.0.0.0:6008\n",
      "************************************************************************\n",
      "\n",
      "************************************************************************\n",
      "1) Start local server:\n",
      "    cd /home/guangda/repos/labelmaker-mix3d/saved/evaluation_scannet20/validation_2024-02-29_1114/pyviz/scene0011_00; python -m http.server 6008\n",
      "2) Open in browser:\n",
      "    http://0.0.0.0:6008\n",
      "************************************************************************\n"
     ]
    },
    {
     "name": "stderr",
     "output_type": "stream",
     "text": [
      "8it [00:00, 15.57it/s]"
     ]
    },
    {
     "name": "stdout",
     "output_type": "stream",
     "text": [
      "\n",
      "************************************************************************\n",
      "1) Start local server:\n",
      "    cd /home/guangda/repos/labelmaker-mix3d/saved/evaluation_scannet20/validation_2024-02-29_1114/pyviz/scene0207_01; python -m http.server 6008\n",
      "2) Open in browser:\n",
      "    http://0.0.0.0:6008\n",
      "************************************************************************\n",
      "\n",
      "************************************************************************\n",
      "1) Start local server:\n",
      "    cd /home/guangda/repos/labelmaker-mix3d/saved/evaluation_scannet20/validation_2024-02-29_1114/pyviz/scene0663_00; python -m http.server 6008\n",
      "2) Open in browser:\n",
      "    http://0.0.0.0:6008\n",
      "************************************************************************\n",
      "\n",
      "************************************************************************\n",
      "1) Start local server:\n",
      "    cd /home/guangda/repos/labelmaker-mix3d/saved/evaluation_scannet20/validation_2024-02-29_1114/pyviz/scene0164_01; python -m http.server 6008\n",
      "2) Open in browser:\n",
      "    http://0.0.0.0:6008\n",
      "************************************************************************\n",
      "\n",
      "************************************************************************\n",
      "1) Start local server:\n",
      "    cd /home/guangda/repos/labelmaker-mix3d/saved/evaluation_scannet20/validation_2024-02-29_1114/pyviz/scene0088_00; python -m http.server 6008\n",
      "2) Open in browser:\n",
      "    http://0.0.0.0:6008\n",
      "************************************************************************\n"
     ]
    },
    {
     "name": "stderr",
     "output_type": "stream",
     "text": [
      "11it [00:00, 17.03it/s]"
     ]
    },
    {
     "name": "stdout",
     "output_type": "stream",
     "text": [
      "\n",
      "************************************************************************\n",
      "1) Start local server:\n",
      "    cd /home/guangda/repos/labelmaker-mix3d/saved/evaluation_scannet20/validation_2024-02-29_1114/pyviz/scene0426_02; python -m http.server 6008\n",
      "2) Open in browser:\n",
      "    http://0.0.0.0:6008\n",
      "************************************************************************\n",
      "\n",
      "************************************************************************\n",
      "1) Start local server:\n",
      "    cd /home/guangda/repos/labelmaker-mix3d/saved/evaluation_scannet20/validation_2024-02-29_1114/pyviz/scene0382_01; python -m http.server 6008\n",
      "2) Open in browser:\n",
      "    http://0.0.0.0:6008\n",
      "************************************************************************\n",
      "\n",
      "************************************************************************\n",
      "1) Start local server:\n",
      "    cd /home/guangda/repos/labelmaker-mix3d/saved/evaluation_scannet20/validation_2024-02-29_1114/pyviz/scene0334_02; python -m http.server 6008\n",
      "2) Open in browser:\n",
      "    http://0.0.0.0:6008\n",
      "************************************************************************\n",
      "\n",
      "************************************************************************\n",
      "1) Start local server:\n",
      "    cd /home/guangda/repos/labelmaker-mix3d/saved/evaluation_scannet20/validation_2024-02-29_1114/pyviz/scene0088_03; python -m http.server 6008\n",
      "2) Open in browser:\n",
      "    http://0.0.0.0:6008\n",
      "************************************************************************\n"
     ]
    },
    {
     "name": "stderr",
     "output_type": "stream",
     "text": [
      "15it [00:00, 15.95it/s]"
     ]
    },
    {
     "name": "stdout",
     "output_type": "stream",
     "text": [
      "\n",
      "************************************************************************\n",
      "1) Start local server:\n",
      "    cd /home/guangda/repos/labelmaker-mix3d/saved/evaluation_scannet20/validation_2024-02-29_1114/pyviz/scene0629_01; python -m http.server 6008\n",
      "2) Open in browser:\n",
      "    http://0.0.0.0:6008\n",
      "************************************************************************\n",
      "\n",
      "************************************************************************\n",
      "1) Start local server:\n",
      "    cd /home/guangda/repos/labelmaker-mix3d/saved/evaluation_scannet20/validation_2024-02-29_1114/pyviz/scene0685_02; python -m http.server 6008\n",
      "2) Open in browser:\n",
      "    http://0.0.0.0:6008\n",
      "************************************************************************\n",
      "\n",
      "************************************************************************\n",
      "1) Start local server:\n",
      "    cd /home/guangda/repos/labelmaker-mix3d/saved/evaluation_scannet20/validation_2024-02-29_1114/pyviz/scene0357_01; python -m http.server 6008\n",
      "2) Open in browser:\n",
      "    http://0.0.0.0:6008\n",
      "************************************************************************\n",
      "\n",
      "************************************************************************\n",
      "1) Start local server:\n",
      "    cd /home/guangda/repos/labelmaker-mix3d/saved/evaluation_scannet20/validation_2024-02-29_1114/pyviz/scene0100_02; python -m http.server 6008\n",
      "2) Open in browser:\n",
      "    http://0.0.0.0:6008\n",
      "************************************************************************\n"
     ]
    },
    {
     "name": "stderr",
     "output_type": "stream",
     "text": [
      "21it [00:01, 21.93it/s]"
     ]
    },
    {
     "name": "stdout",
     "output_type": "stream",
     "text": [
      "\n",
      "************************************************************************\n",
      "1) Start local server:\n",
      "    cd /home/guangda/repos/labelmaker-mix3d/saved/evaluation_scannet20/validation_2024-02-29_1114/pyviz/scene0131_02; python -m http.server 6008\n",
      "2) Open in browser:\n",
      "    http://0.0.0.0:6008\n",
      "************************************************************************\n",
      "\n",
      "************************************************************************\n",
      "1) Start local server:\n",
      "    cd /home/guangda/repos/labelmaker-mix3d/saved/evaluation_scannet20/validation_2024-02-29_1114/pyviz/scene0461_00; python -m http.server 6008\n",
      "2) Open in browser:\n",
      "    http://0.0.0.0:6008\n",
      "************************************************************************\n",
      "\n",
      "************************************************************************\n",
      "1) Start local server:\n",
      "    cd /home/guangda/repos/labelmaker-mix3d/saved/evaluation_scannet20/validation_2024-02-29_1114/pyviz/scene0553_00; python -m http.server 6008\n",
      "2) Open in browser:\n",
      "    http://0.0.0.0:6008\n",
      "************************************************************************\n",
      "\n",
      "************************************************************************\n",
      "1) Start local server:\n",
      "    cd /home/guangda/repos/labelmaker-mix3d/saved/evaluation_scannet20/validation_2024-02-29_1114/pyviz/scene0700_01; python -m http.server 6008\n",
      "2) Open in browser:\n",
      "    http://0.0.0.0:6008\n",
      "************************************************************************\n",
      "\n",
      "************************************************************************\n",
      "1) Start local server:\n",
      "    cd /home/guangda/repos/labelmaker-mix3d/saved/evaluation_scannet20/validation_2024-02-29_1114/pyviz/scene0423_02; python -m http.server 6008\n",
      "2) Open in browser:\n",
      "    http://0.0.0.0:6008\n",
      "************************************************************************\n",
      "\n",
      "************************************************************************\n",
      "1) Start local server:\n",
      "    cd /home/guangda/repos/labelmaker-mix3d/saved/evaluation_scannet20/validation_2024-02-29_1114/pyviz/scene0342_00; python -m http.server 6008\n",
      "2) Open in browser:\n",
      "    http://0.0.0.0:6008\n",
      "************************************************************************\n",
      "\n",
      "************************************************************************\n",
      "1) Start local server:\n",
      "    cd /home/guangda/repos/labelmaker-mix3d/saved/evaluation_scannet20/validation_2024-02-29_1114/pyviz/scene0164_00; python -m http.server 6008\n",
      "2) Open in browser:\n",
      "    http://0.0.0.0:6008\n",
      "************************************************************************\n"
     ]
    },
    {
     "name": "stderr",
     "output_type": "stream",
     "text": [
      "24it [00:01, 23.84it/s]"
     ]
    },
    {
     "name": "stdout",
     "output_type": "stream",
     "text": [
      "\n",
      "************************************************************************\n",
      "1) Start local server:\n",
      "    cd /home/guangda/repos/labelmaker-mix3d/saved/evaluation_scannet20/validation_2024-02-29_1114/pyviz/scene0193_01; python -m http.server 6008\n",
      "2) Open in browser:\n",
      "    http://0.0.0.0:6008\n",
      "************************************************************************\n",
      "\n",
      "************************************************************************\n",
      "1) Start local server:\n",
      "    cd /home/guangda/repos/labelmaker-mix3d/saved/evaluation_scannet20/validation_2024-02-29_1114/pyviz/scene0086_01; python -m http.server 6008\n",
      "2) Open in browser:\n",
      "    http://0.0.0.0:6008\n",
      "************************************************************************\n",
      "\n",
      "************************************************************************\n",
      "1) Start local server:\n",
      "    cd /home/guangda/repos/labelmaker-mix3d/saved/evaluation_scannet20/validation_2024-02-29_1114/pyviz/scene0277_00; python -m http.server 6008\n",
      "2) Open in browser:\n",
      "    http://0.0.0.0:6008\n",
      "************************************************************************\n"
     ]
    },
    {
     "name": "stderr",
     "output_type": "stream",
     "text": [
      "30it [00:01, 19.49it/s]"
     ]
    },
    {
     "name": "stdout",
     "output_type": "stream",
     "text": [
      "\n",
      "************************************************************************\n",
      "1) Start local server:\n",
      "    cd /home/guangda/repos/labelmaker-mix3d/saved/evaluation_scannet20/validation_2024-02-29_1114/pyviz/scene0329_02; python -m http.server 6008\n",
      "2) Open in browser:\n",
      "    http://0.0.0.0:6008\n",
      "************************************************************************\n",
      "\n",
      "************************************************************************\n",
      "1) Start local server:\n",
      "    cd /home/guangda/repos/labelmaker-mix3d/saved/evaluation_scannet20/validation_2024-02-29_1114/pyviz/scene0187_00; python -m http.server 6008\n",
      "2) Open in browser:\n",
      "    http://0.0.0.0:6008\n",
      "************************************************************************\n",
      "\n",
      "************************************************************************\n",
      "1) Start local server:\n",
      "    cd /home/guangda/repos/labelmaker-mix3d/saved/evaluation_scannet20/validation_2024-02-29_1114/pyviz/scene0697_00; python -m http.server 6008\n",
      "2) Open in browser:\n",
      "    http://0.0.0.0:6008\n",
      "************************************************************************\n",
      "\n",
      "************************************************************************\n",
      "1) Start local server:\n",
      "    cd /home/guangda/repos/labelmaker-mix3d/saved/evaluation_scannet20/validation_2024-02-29_1114/pyviz/scene0278_00; python -m http.server 6008\n",
      "2) Open in browser:\n",
      "    http://0.0.0.0:6008\n",
      "************************************************************************\n"
     ]
    },
    {
     "name": "stderr",
     "output_type": "stream",
     "text": [
      "33it [00:01, 17.99it/s]"
     ]
    },
    {
     "name": "stdout",
     "output_type": "stream",
     "text": [
      "\n",
      "************************************************************************\n",
      "1) Start local server:\n",
      "    cd /home/guangda/repos/labelmaker-mix3d/saved/evaluation_scannet20/validation_2024-02-29_1114/pyviz/scene0629_00; python -m http.server 6008\n",
      "2) Open in browser:\n",
      "    http://0.0.0.0:6008\n",
      "************************************************************************\n",
      "\n",
      "************************************************************************\n",
      "1) Start local server:\n",
      "    cd /home/guangda/repos/labelmaker-mix3d/saved/evaluation_scannet20/validation_2024-02-29_1114/pyviz/scene0025_01; python -m http.server 6008\n",
      "2) Open in browser:\n",
      "    http://0.0.0.0:6008\n",
      "************************************************************************\n",
      "\n",
      "************************************************************************\n",
      "1) Start local server:\n",
      "    cd /home/guangda/repos/labelmaker-mix3d/saved/evaluation_scannet20/validation_2024-02-29_1114/pyviz/scene0583_02; python -m http.server 6008\n",
      "2) Open in browser:\n",
      "    http://0.0.0.0:6008\n",
      "************************************************************************\n",
      "\n",
      "************************************************************************\n",
      "1) Start local server:\n",
      "    cd /home/guangda/repos/labelmaker-mix3d/saved/evaluation_scannet20/validation_2024-02-29_1114/pyviz/scene0064_01; python -m http.server 6008\n",
      "2) Open in browser:\n",
      "    http://0.0.0.0:6008\n",
      "************************************************************************\n"
     ]
    },
    {
     "name": "stderr",
     "output_type": "stream",
     "text": [
      "37it [00:02, 16.17it/s]"
     ]
    },
    {
     "name": "stdout",
     "output_type": "stream",
     "text": [
      "\n",
      "************************************************************************\n",
      "1) Start local server:\n",
      "    cd /home/guangda/repos/labelmaker-mix3d/saved/evaluation_scannet20/validation_2024-02-29_1114/pyviz/scene0064_00; python -m http.server 6008\n",
      "2) Open in browser:\n",
      "    http://0.0.0.0:6008\n",
      "************************************************************************\n",
      "\n",
      "************************************************************************\n",
      "1) Start local server:\n",
      "    cd /home/guangda/repos/labelmaker-mix3d/saved/evaluation_scannet20/validation_2024-02-29_1114/pyviz/scene0378_00; python -m http.server 6008\n",
      "2) Open in browser:\n",
      "    http://0.0.0.0:6008\n",
      "************************************************************************\n",
      "\n",
      "************************************************************************\n",
      "1) Start local server:\n",
      "    cd /home/guangda/repos/labelmaker-mix3d/saved/evaluation_scannet20/validation_2024-02-29_1114/pyviz/scene0351_00; python -m http.server 6008\n",
      "2) Open in browser:\n",
      "    http://0.0.0.0:6008\n",
      "************************************************************************\n",
      "\n",
      "************************************************************************\n",
      "1) Start local server:\n",
      "    cd /home/guangda/repos/labelmaker-mix3d/saved/evaluation_scannet20/validation_2024-02-29_1114/pyviz/scene0077_00; python -m http.server 6008\n",
      "2) Open in browser:\n",
      "    http://0.0.0.0:6008\n",
      "************************************************************************\n"
     ]
    },
    {
     "name": "stderr",
     "output_type": "stream",
     "text": [
      "41it [00:02, 15.68it/s]"
     ]
    },
    {
     "name": "stdout",
     "output_type": "stream",
     "text": [
      "\n",
      "************************************************************************\n",
      "1) Start local server:\n",
      "    cd /home/guangda/repos/labelmaker-mix3d/saved/evaluation_scannet20/validation_2024-02-29_1114/pyviz/scene0257_00; python -m http.server 6008\n",
      "2) Open in browser:\n",
      "    http://0.0.0.0:6008\n",
      "************************************************************************\n",
      "\n",
      "************************************************************************\n",
      "1) Start local server:\n",
      "    cd /home/guangda/repos/labelmaker-mix3d/saved/evaluation_scannet20/validation_2024-02-29_1114/pyviz/scene0169_01; python -m http.server 6008\n",
      "2) Open in browser:\n",
      "    http://0.0.0.0:6008\n",
      "************************************************************************\n",
      "\n",
      "************************************************************************\n",
      "1) Start local server:\n",
      "    cd /home/guangda/repos/labelmaker-mix3d/saved/evaluation_scannet20/validation_2024-02-29_1114/pyviz/scene0697_03; python -m http.server 6008\n",
      "2) Open in browser:\n",
      "    http://0.0.0.0:6008\n",
      "************************************************************************\n"
     ]
    },
    {
     "name": "stderr",
     "output_type": "stream",
     "text": [
      "43it [00:02, 15.81it/s]"
     ]
    },
    {
     "name": "stdout",
     "output_type": "stream",
     "text": [
      "\n",
      "************************************************************************\n",
      "1) Start local server:\n",
      "    cd /home/guangda/repos/labelmaker-mix3d/saved/evaluation_scannet20/validation_2024-02-29_1114/pyviz/scene0088_02; python -m http.server 6008\n",
      "2) Open in browser:\n",
      "    http://0.0.0.0:6008\n",
      "************************************************************************\n",
      "\n",
      "************************************************************************\n",
      "1) Start local server:\n",
      "    cd /home/guangda/repos/labelmaker-mix3d/saved/evaluation_scannet20/validation_2024-02-29_1114/pyviz/scene0670_00; python -m http.server 6008\n",
      "2) Open in browser:\n",
      "    http://0.0.0.0:6008\n",
      "************************************************************************\n",
      "\n",
      "************************************************************************\n",
      "1) Start local server:\n",
      "    cd /home/guangda/repos/labelmaker-mix3d/saved/evaluation_scannet20/validation_2024-02-29_1114/pyviz/scene0664_02; python -m http.server 6008\n",
      "2) Open in browser:\n",
      "    http://0.0.0.0:6008\n",
      "************************************************************************\n",
      "\n",
      "************************************************************************\n",
      "1) Start local server:\n",
      "    cd /home/guangda/repos/labelmaker-mix3d/saved/evaluation_scannet20/validation_2024-02-29_1114/pyviz/scene0580_01; python -m http.server 6008\n",
      "2) Open in browser:\n",
      "    http://0.0.0.0:6008\n",
      "************************************************************************\n"
     ]
    },
    {
     "name": "stderr",
     "output_type": "stream",
     "text": [
      "49it [00:02, 16.39it/s]"
     ]
    },
    {
     "name": "stdout",
     "output_type": "stream",
     "text": [
      "\n",
      "************************************************************************\n",
      "1) Start local server:\n",
      "    cd /home/guangda/repos/labelmaker-mix3d/saved/evaluation_scannet20/validation_2024-02-29_1114/pyviz/scene0231_02; python -m http.server 6008\n",
      "2) Open in browser:\n",
      "    http://0.0.0.0:6008\n",
      "************************************************************************\n",
      "\n",
      "************************************************************************\n",
      "1) Start local server:\n",
      "    cd /home/guangda/repos/labelmaker-mix3d/saved/evaluation_scannet20/validation_2024-02-29_1114/pyviz/scene0217_00; python -m http.server 6008\n",
      "2) Open in browser:\n",
      "    http://0.0.0.0:6008\n",
      "************************************************************************\n",
      "\n",
      "************************************************************************\n",
      "1) Start local server:\n",
      "    cd /home/guangda/repos/labelmaker-mix3d/saved/evaluation_scannet20/validation_2024-02-29_1114/pyviz/scene0146_00; python -m http.server 6008\n",
      "2) Open in browser:\n",
      "    http://0.0.0.0:6008\n",
      "************************************************************************\n",
      "\n",
      "************************************************************************\n",
      "1) Start local server:\n",
      "    cd /home/guangda/repos/labelmaker-mix3d/saved/evaluation_scannet20/validation_2024-02-29_1114/pyviz/scene0203_01; python -m http.server 6008\n",
      "2) Open in browser:\n",
      "    http://0.0.0.0:6008\n",
      "************************************************************************\n",
      "\n",
      "************************************************************************\n",
      "1) Start local server:\n",
      "    cd /home/guangda/repos/labelmaker-mix3d/saved/evaluation_scannet20/validation_2024-02-29_1114/pyviz/scene0609_03; python -m http.server 6008\n",
      "2) Open in browser:\n",
      "    http://0.0.0.0:6008\n",
      "************************************************************************\n"
     ]
    },
    {
     "name": "stderr",
     "output_type": "stream",
     "text": [
      "52it [00:03, 16.20it/s]"
     ]
    },
    {
     "name": "stdout",
     "output_type": "stream",
     "text": [
      "\n",
      "************************************************************************\n",
      "1) Start local server:\n",
      "    cd /home/guangda/repos/labelmaker-mix3d/saved/evaluation_scannet20/validation_2024-02-29_1114/pyviz/scene0377_00; python -m http.server 6008\n",
      "2) Open in browser:\n",
      "    http://0.0.0.0:6008\n",
      "************************************************************************\n",
      "\n",
      "************************************************************************\n",
      "1) Start local server:\n",
      "    cd /home/guangda/repos/labelmaker-mix3d/saved/evaluation_scannet20/validation_2024-02-29_1114/pyviz/scene0653_01; python -m http.server 6008\n",
      "2) Open in browser:\n",
      "    http://0.0.0.0:6008\n",
      "************************************************************************\n"
     ]
    },
    {
     "name": "stderr",
     "output_type": "stream",
     "text": [
      "57it [00:03, 16.88it/s]"
     ]
    },
    {
     "name": "stdout",
     "output_type": "stream",
     "text": [
      "\n",
      "************************************************************************\n",
      "1) Start local server:\n",
      "    cd /home/guangda/repos/labelmaker-mix3d/saved/evaluation_scannet20/validation_2024-02-29_1114/pyviz/scene0329_00; python -m http.server 6008\n",
      "2) Open in browser:\n",
      "    http://0.0.0.0:6008\n",
      "************************************************************************\n",
      "\n",
      "************************************************************************\n",
      "1) Start local server:\n",
      "    cd /home/guangda/repos/labelmaker-mix3d/saved/evaluation_scannet20/validation_2024-02-29_1114/pyviz/scene0357_00; python -m http.server 6008\n",
      "2) Open in browser:\n",
      "    http://0.0.0.0:6008\n",
      "************************************************************************\n",
      "\n",
      "************************************************************************\n",
      "1) Start local server:\n",
      "    cd /home/guangda/repos/labelmaker-mix3d/saved/evaluation_scannet20/validation_2024-02-29_1114/pyviz/scene0664_01; python -m http.server 6008\n",
      "2) Open in browser:\n",
      "    http://0.0.0.0:6008\n",
      "************************************************************************\n",
      "\n",
      "************************************************************************\n",
      "1) Start local server:\n",
      "    cd /home/guangda/repos/labelmaker-mix3d/saved/evaluation_scannet20/validation_2024-02-29_1114/pyviz/scene0686_00; python -m http.server 6008\n",
      "2) Open in browser:\n",
      "    http://0.0.0.0:6008\n",
      "************************************************************************\n",
      "\n",
      "************************************************************************\n",
      "1) Start local server:\n",
      "    cd /home/guangda/repos/labelmaker-mix3d/saved/evaluation_scannet20/validation_2024-02-29_1114/pyviz/scene0221_01; python -m http.server 6008\n",
      "2) Open in browser:\n",
      "    http://0.0.0.0:6008\n",
      "************************************************************************\n"
     ]
    },
    {
     "name": "stderr",
     "output_type": "stream",
     "text": [
      "59it [00:03, 16.36it/s]"
     ]
    },
    {
     "name": "stdout",
     "output_type": "stream",
     "text": [
      "\n",
      "************************************************************************\n",
      "1) Start local server:\n",
      "    cd /home/guangda/repos/labelmaker-mix3d/saved/evaluation_scannet20/validation_2024-02-29_1114/pyviz/scene0660_00; python -m http.server 6008\n",
      "2) Open in browser:\n",
      "    http://0.0.0.0:6008\n",
      "************************************************************************\n",
      "\n",
      "************************************************************************\n",
      "1) Start local server:\n",
      "    cd /home/guangda/repos/labelmaker-mix3d/saved/evaluation_scannet20/validation_2024-02-29_1114/pyviz/scene0663_01; python -m http.server 6008\n",
      "2) Open in browser:\n",
      "    http://0.0.0.0:6008\n",
      "************************************************************************\n",
      "\n",
      "************************************************************************\n",
      "1) Start local server:\n",
      "    cd /home/guangda/repos/labelmaker-mix3d/saved/evaluation_scannet20/validation_2024-02-29_1114/pyviz/scene0684_01; python -m http.server 6008\n",
      "2) Open in browser:\n",
      "    http://0.0.0.0:6008\n",
      "************************************************************************\n"
     ]
    },
    {
     "name": "stderr",
     "output_type": "stream",
     "text": [
      "63it [00:03, 14.30it/s]"
     ]
    },
    {
     "name": "stdout",
     "output_type": "stream",
     "text": [
      "\n",
      "************************************************************************\n",
      "1) Start local server:\n",
      "    cd /home/guangda/repos/labelmaker-mix3d/saved/evaluation_scannet20/validation_2024-02-29_1114/pyviz/scene0231_01; python -m http.server 6008\n",
      "2) Open in browser:\n",
      "    http://0.0.0.0:6008\n",
      "************************************************************************\n",
      "\n",
      "************************************************************************\n",
      "1) Start local server:\n",
      "    cd /home/guangda/repos/labelmaker-mix3d/saved/evaluation_scannet20/validation_2024-02-29_1114/pyviz/scene0207_00; python -m http.server 6008\n",
      "2) Open in browser:\n",
      "    http://0.0.0.0:6008\n",
      "************************************************************************\n",
      "\n",
      "************************************************************************\n",
      "1) Start local server:\n",
      "    cd /home/guangda/repos/labelmaker-mix3d/saved/evaluation_scannet20/validation_2024-02-29_1114/pyviz/scene0432_01; python -m http.server 6008\n",
      "2) Open in browser:\n",
      "    http://0.0.0.0:6008\n",
      "************************************************************************\n",
      "\n",
      "************************************************************************\n",
      "1) Start local server:\n",
      "    cd /home/guangda/repos/labelmaker-mix3d/saved/evaluation_scannet20/validation_2024-02-29_1114/pyviz/scene0648_00; python -m http.server 6008\n",
      "2) Open in browser:\n",
      "    http://0.0.0.0:6008\n",
      "************************************************************************\n"
     ]
    },
    {
     "name": "stderr",
     "output_type": "stream",
     "text": [
      "67it [00:04, 14.22it/s]"
     ]
    },
    {
     "name": "stdout",
     "output_type": "stream",
     "text": [
      "\n",
      "************************************************************************\n",
      "1) Start local server:\n",
      "    cd /home/guangda/repos/labelmaker-mix3d/saved/evaluation_scannet20/validation_2024-02-29_1114/pyviz/scene0300_00; python -m http.server 6008\n",
      "2) Open in browser:\n",
      "    http://0.0.0.0:6008\n",
      "************************************************************************\n",
      "\n",
      "************************************************************************\n",
      "1) Start local server:\n",
      "    cd /home/guangda/repos/labelmaker-mix3d/saved/evaluation_scannet20/validation_2024-02-29_1114/pyviz/scene0644_00; python -m http.server 6008\n",
      "2) Open in browser:\n",
      "    http://0.0.0.0:6008\n",
      "************************************************************************\n",
      "\n",
      "************************************************************************\n",
      "1) Start local server:\n",
      "    cd /home/guangda/repos/labelmaker-mix3d/saved/evaluation_scannet20/validation_2024-02-29_1114/pyviz/scene0426_00; python -m http.server 6008\n",
      "2) Open in browser:\n",
      "    http://0.0.0.0:6008\n",
      "************************************************************************\n"
     ]
    },
    {
     "name": "stderr",
     "output_type": "stream",
     "text": [
      "71it [00:04, 16.14it/s]"
     ]
    },
    {
     "name": "stdout",
     "output_type": "stream",
     "text": [
      "\n",
      "************************************************************************\n",
      "1) Start local server:\n",
      "    cd /home/guangda/repos/labelmaker-mix3d/saved/evaluation_scannet20/validation_2024-02-29_1114/pyviz/scene0565_00; python -m http.server 6008\n",
      "2) Open in browser:\n",
      "    http://0.0.0.0:6008\n",
      "************************************************************************\n",
      "\n",
      "************************************************************************\n",
      "1) Start local server:\n",
      "    cd /home/guangda/repos/labelmaker-mix3d/saved/evaluation_scannet20/validation_2024-02-29_1114/pyviz/scene0354_00; python -m http.server 6008\n",
      "2) Open in browser:\n",
      "    http://0.0.0.0:6008\n",
      "************************************************************************\n",
      "\n",
      "************************************************************************\n",
      "1) Start local server:\n",
      "    cd /home/guangda/repos/labelmaker-mix3d/saved/evaluation_scannet20/validation_2024-02-29_1114/pyviz/scene0651_02; python -m http.server 6008\n",
      "2) Open in browser:\n",
      "    http://0.0.0.0:6008\n",
      "************************************************************************\n",
      "\n",
      "************************************************************************\n",
      "1) Start local server:\n",
      "    cd /home/guangda/repos/labelmaker-mix3d/saved/evaluation_scannet20/validation_2024-02-29_1114/pyviz/scene0474_00; python -m http.server 6008\n",
      "2) Open in browser:\n",
      "    http://0.0.0.0:6008\n",
      "************************************************************************\n"
     ]
    },
    {
     "name": "stderr",
     "output_type": "stream",
     "text": [
      "73it [00:04, 15.44it/s]"
     ]
    },
    {
     "name": "stdout",
     "output_type": "stream",
     "text": [
      "\n",
      "************************************************************************\n",
      "1) Start local server:\n",
      "    cd /home/guangda/repos/labelmaker-mix3d/saved/evaluation_scannet20/validation_2024-02-29_1114/pyviz/scene0474_03; python -m http.server 6008\n",
      "2) Open in browser:\n",
      "    http://0.0.0.0:6008\n",
      "************************************************************************\n",
      "\n",
      "************************************************************************\n",
      "1) Start local server:\n",
      "    cd /home/guangda/repos/labelmaker-mix3d/saved/evaluation_scannet20/validation_2024-02-29_1114/pyviz/scene0575_01; python -m http.server 6008\n",
      "2) Open in browser:\n",
      "    http://0.0.0.0:6008\n",
      "************************************************************************\n",
      "\n",
      "************************************************************************\n",
      "1) Start local server:\n",
      "    cd /home/guangda/repos/labelmaker-mix3d/saved/evaluation_scannet20/validation_2024-02-29_1114/pyviz/scene0164_02; python -m http.server 6008\n",
      "2) Open in browser:\n",
      "    http://0.0.0.0:6008\n",
      "************************************************************************\n",
      "\n",
      "************************************************************************\n",
      "1) Start local server:\n",
      "    cd /home/guangda/repos/labelmaker-mix3d/saved/evaluation_scannet20/validation_2024-02-29_1114/pyviz/scene0583_01; python -m http.server 6008\n",
      "2) Open in browser:\n",
      "    http://0.0.0.0:6008\n",
      "************************************************************************\n"
     ]
    },
    {
     "name": "stderr",
     "output_type": "stream",
     "text": [
      "78it [00:04, 16.67it/s]"
     ]
    },
    {
     "name": "stdout",
     "output_type": "stream",
     "text": [
      "\n",
      "************************************************************************\n",
      "1) Start local server:\n",
      "    cd /home/guangda/repos/labelmaker-mix3d/saved/evaluation_scannet20/validation_2024-02-29_1114/pyviz/scene0430_00; python -m http.server 6008\n",
      "2) Open in browser:\n",
      "    http://0.0.0.0:6008\n",
      "************************************************************************\n",
      "\n",
      "************************************************************************\n",
      "1) Start local server:\n",
      "    cd /home/guangda/repos/labelmaker-mix3d/saved/evaluation_scannet20/validation_2024-02-29_1114/pyviz/scene0488_00; python -m http.server 6008\n",
      "2) Open in browser:\n",
      "    http://0.0.0.0:6008\n",
      "************************************************************************\n",
      "\n",
      "************************************************************************\n",
      "1) Start local server:\n",
      "    cd /home/guangda/repos/labelmaker-mix3d/saved/evaluation_scannet20/validation_2024-02-29_1114/pyviz/scene0203_02; python -m http.server 6008\n",
      "2) Open in browser:\n",
      "    http://0.0.0.0:6008\n",
      "************************************************************************\n",
      "\n",
      "************************************************************************\n",
      "1) Start local server:\n",
      "    cd /home/guangda/repos/labelmaker-mix3d/saved/evaluation_scannet20/validation_2024-02-29_1114/pyviz/scene0695_01; python -m http.server 6008\n",
      "2) Open in browser:\n",
      "    http://0.0.0.0:6008\n",
      "************************************************************************\n"
     ]
    },
    {
     "name": "stderr",
     "output_type": "stream",
     "text": [
      "83it [00:05, 15.83it/s]"
     ]
    },
    {
     "name": "stdout",
     "output_type": "stream",
     "text": [
      "\n",
      "************************************************************************\n",
      "1) Start local server:\n",
      "    cd /home/guangda/repos/labelmaker-mix3d/saved/evaluation_scannet20/validation_2024-02-29_1114/pyviz/scene0251_00; python -m http.server 6008\n",
      "2) Open in browser:\n",
      "    http://0.0.0.0:6008\n",
      "************************************************************************\n",
      "\n",
      "************************************************************************\n",
      "1) Start local server:\n",
      "    cd /home/guangda/repos/labelmaker-mix3d/saved/evaluation_scannet20/validation_2024-02-29_1114/pyviz/scene0046_01; python -m http.server 6008\n",
      "2) Open in browser:\n",
      "    http://0.0.0.0:6008\n",
      "************************************************************************\n",
      "\n",
      "************************************************************************\n",
      "1) Start local server:\n",
      "    cd /home/guangda/repos/labelmaker-mix3d/saved/evaluation_scannet20/validation_2024-02-29_1114/pyviz/scene0527_00; python -m http.server 6008\n",
      "2) Open in browser:\n",
      "    http://0.0.0.0:6008\n",
      "************************************************************************\n",
      "\n",
      "************************************************************************\n",
      "1) Start local server:\n",
      "    cd /home/guangda/repos/labelmaker-mix3d/saved/evaluation_scannet20/validation_2024-02-29_1114/pyviz/scene0616_00; python -m http.server 6008\n",
      "2) Open in browser:\n",
      "    http://0.0.0.0:6008\n",
      "************************************************************************\n"
     ]
    },
    {
     "name": "stderr",
     "output_type": "stream",
     "text": [
      "85it [00:05, 15.90it/s]"
     ]
    },
    {
     "name": "stdout",
     "output_type": "stream",
     "text": [
      "\n",
      "************************************************************************\n",
      "1) Start local server:\n",
      "    cd /home/guangda/repos/labelmaker-mix3d/saved/evaluation_scannet20/validation_2024-02-29_1114/pyviz/scene0696_00; python -m http.server 6008\n",
      "2) Open in browser:\n",
      "    http://0.0.0.0:6008\n",
      "************************************************************************\n",
      "\n",
      "************************************************************************\n",
      "1) Start local server:\n",
      "    cd /home/guangda/repos/labelmaker-mix3d/saved/evaluation_scannet20/validation_2024-02-29_1114/pyviz/scene0193_00; python -m http.server 6008\n",
      "2) Open in browser:\n",
      "    http://0.0.0.0:6008\n",
      "************************************************************************\n",
      "\n",
      "************************************************************************\n",
      "1) Start local server:\n",
      "    cd /home/guangda/repos/labelmaker-mix3d/saved/evaluation_scannet20/validation_2024-02-29_1114/pyviz/scene0678_00; python -m http.server 6008\n",
      "2) Open in browser:\n",
      "    http://0.0.0.0:6008\n",
      "************************************************************************\n"
     ]
    },
    {
     "name": "stderr",
     "output_type": "stream",
     "text": [
      "89it [00:05, 13.69it/s]"
     ]
    },
    {
     "name": "stdout",
     "output_type": "stream",
     "text": [
      "\n",
      "************************************************************************\n",
      "1) Start local server:\n",
      "    cd /home/guangda/repos/labelmaker-mix3d/saved/evaluation_scannet20/validation_2024-02-29_1114/pyviz/scene0591_02; python -m http.server 6008\n",
      "2) Open in browser:\n",
      "    http://0.0.0.0:6008\n",
      "************************************************************************\n",
      "\n",
      "************************************************************************\n",
      "1) Start local server:\n",
      "    cd /home/guangda/repos/labelmaker-mix3d/saved/evaluation_scannet20/validation_2024-02-29_1114/pyviz/scene0608_02; python -m http.server 6008\n",
      "2) Open in browser:\n",
      "    http://0.0.0.0:6008\n",
      "************************************************************************\n",
      "\n",
      "************************************************************************\n",
      "1) Start local server:\n",
      "    cd /home/guangda/repos/labelmaker-mix3d/saved/evaluation_scannet20/validation_2024-02-29_1114/pyviz/scene0647_00; python -m http.server 6008\n",
      "2) Open in browser:\n",
      "    http://0.0.0.0:6008\n",
      "************************************************************************\n"
     ]
    },
    {
     "name": "stderr",
     "output_type": "stream",
     "text": [
      "93it [00:05, 14.60it/s]"
     ]
    },
    {
     "name": "stdout",
     "output_type": "stream",
     "text": [
      "\n",
      "************************************************************************\n",
      "1) Start local server:\n",
      "    cd /home/guangda/repos/labelmaker-mix3d/saved/evaluation_scannet20/validation_2024-02-29_1114/pyviz/scene0149_00; python -m http.server 6008\n",
      "2) Open in browser:\n",
      "    http://0.0.0.0:6008\n",
      "************************************************************************\n",
      "\n",
      "************************************************************************\n",
      "1) Start local server:\n",
      "    cd /home/guangda/repos/labelmaker-mix3d/saved/evaluation_scannet20/validation_2024-02-29_1114/pyviz/scene0084_01; python -m http.server 6008\n",
      "2) Open in browser:\n",
      "    http://0.0.0.0:6008\n",
      "************************************************************************\n",
      "\n",
      "************************************************************************\n",
      "1) Start local server:\n",
      "    cd /home/guangda/repos/labelmaker-mix3d/saved/evaluation_scannet20/validation_2024-02-29_1114/pyviz/scene0015_00; python -m http.server 6008\n",
      "2) Open in browser:\n",
      "    http://0.0.0.0:6008\n",
      "************************************************************************\n",
      "\n",
      "************************************************************************\n",
      "1) Start local server:\n",
      "    cd /home/guangda/repos/labelmaker-mix3d/saved/evaluation_scannet20/validation_2024-02-29_1114/pyviz/scene0221_00; python -m http.server 6008\n",
      "2) Open in browser:\n",
      "    http://0.0.0.0:6008\n",
      "************************************************************************\n"
     ]
    },
    {
     "name": "stderr",
     "output_type": "stream",
     "text": [
      "98it [00:06, 17.23it/s]"
     ]
    },
    {
     "name": "stdout",
     "output_type": "stream",
     "text": [
      "\n",
      "************************************************************************\n",
      "1) Start local server:\n",
      "    cd /home/guangda/repos/labelmaker-mix3d/saved/evaluation_scannet20/validation_2024-02-29_1114/pyviz/scene0030_00; python -m http.server 6008\n",
      "2) Open in browser:\n",
      "    http://0.0.0.0:6008\n",
      "************************************************************************\n",
      "\n",
      "************************************************************************\n",
      "1) Start local server:\n",
      "    cd /home/guangda/repos/labelmaker-mix3d/saved/evaluation_scannet20/validation_2024-02-29_1114/pyviz/scene0693_01; python -m http.server 6008\n",
      "2) Open in browser:\n",
      "    http://0.0.0.0:6008\n",
      "************************************************************************\n",
      "\n",
      "************************************************************************\n",
      "1) Start local server:\n",
      "    cd /home/guangda/repos/labelmaker-mix3d/saved/evaluation_scannet20/validation_2024-02-29_1114/pyviz/scene0256_02; python -m http.server 6008\n",
      "2) Open in browser:\n",
      "    http://0.0.0.0:6008\n",
      "************************************************************************\n",
      "\n",
      "************************************************************************\n",
      "1) Start local server:\n",
      "    cd /home/guangda/repos/labelmaker-mix3d/saved/evaluation_scannet20/validation_2024-02-29_1114/pyviz/scene0609_00; python -m http.server 6008\n",
      "2) Open in browser:\n",
      "    http://0.0.0.0:6008\n",
      "************************************************************************\n",
      "\n",
      "************************************************************************\n",
      "1) Start local server:\n",
      "    cd /home/guangda/repos/labelmaker-mix3d/saved/evaluation_scannet20/validation_2024-02-29_1114/pyviz/scene0414_00; python -m http.server 6008\n",
      "2) Open in browser:\n",
      "    http://0.0.0.0:6008\n",
      "************************************************************************\n"
     ]
    },
    {
     "name": "stderr",
     "output_type": "stream",
     "text": [
      "102it [00:06, 15.77it/s]"
     ]
    },
    {
     "name": "stdout",
     "output_type": "stream",
     "text": [
      "\n",
      "************************************************************************\n",
      "1) Start local server:\n",
      "    cd /home/guangda/repos/labelmaker-mix3d/saved/evaluation_scannet20/validation_2024-02-29_1114/pyviz/scene0435_00; python -m http.server 6008\n",
      "2) Open in browser:\n",
      "    http://0.0.0.0:6008\n",
      "************************************************************************\n",
      "\n",
      "************************************************************************\n",
      "1) Start local server:\n",
      "    cd /home/guangda/repos/labelmaker-mix3d/saved/evaluation_scannet20/validation_2024-02-29_1114/pyviz/scene0598_02; python -m http.server 6008\n",
      "2) Open in browser:\n",
      "    http://0.0.0.0:6008\n",
      "************************************************************************\n",
      "\n",
      "************************************************************************\n",
      "1) Start local server:\n",
      "    cd /home/guangda/repos/labelmaker-mix3d/saved/evaluation_scannet20/validation_2024-02-29_1114/pyviz/scene0046_02; python -m http.server 6008\n",
      "2) Open in browser:\n",
      "    http://0.0.0.0:6008\n",
      "************************************************************************\n",
      "\n",
      "************************************************************************\n",
      "1) Start local server:\n",
      "    cd /home/guangda/repos/labelmaker-mix3d/saved/evaluation_scannet20/validation_2024-02-29_1114/pyviz/scene0088_01; python -m http.server 6008\n",
      "2) Open in browser:\n",
      "    http://0.0.0.0:6008\n",
      "************************************************************************\n"
     ]
    },
    {
     "name": "stderr",
     "output_type": "stream",
     "text": [
      "105it [00:06, 17.81it/s]"
     ]
    },
    {
     "name": "stdout",
     "output_type": "stream",
     "text": [
      "\n",
      "************************************************************************\n",
      "1) Start local server:\n",
      "    cd /home/guangda/repos/labelmaker-mix3d/saved/evaluation_scannet20/validation_2024-02-29_1114/pyviz/scene0552_01; python -m http.server 6008\n",
      "2) Open in browser:\n",
      "    http://0.0.0.0:6008\n",
      "************************************************************************\n",
      "\n",
      "************************************************************************\n",
      "1) Start local server:\n",
      "    cd /home/guangda/repos/labelmaker-mix3d/saved/evaluation_scannet20/validation_2024-02-29_1114/pyviz/scene0655_00; python -m http.server 6008\n",
      "2) Open in browser:\n",
      "    http://0.0.0.0:6008\n",
      "************************************************************************\n",
      "\n",
      "************************************************************************\n",
      "1) Start local server:\n",
      "    cd /home/guangda/repos/labelmaker-mix3d/saved/evaluation_scannet20/validation_2024-02-29_1114/pyviz/scene0655_02; python -m http.server 6008\n",
      "2) Open in browser:\n",
      "    http://0.0.0.0:6008\n",
      "************************************************************************\n",
      "\n",
      "************************************************************************\n",
      "1) Start local server:\n",
      "    cd /home/guangda/repos/labelmaker-mix3d/saved/evaluation_scannet20/validation_2024-02-29_1114/pyviz/scene0558_02; python -m http.server 6008\n",
      "2) Open in browser:\n",
      "    http://0.0.0.0:6008\n",
      "************************************************************************\n"
     ]
    },
    {
     "name": "stderr",
     "output_type": "stream",
     "text": [
      "109it [00:06, 17.99it/s]"
     ]
    },
    {
     "name": "stdout",
     "output_type": "stream",
     "text": [
      "\n",
      "************************************************************************\n",
      "1) Start local server:\n",
      "    cd /home/guangda/repos/labelmaker-mix3d/saved/evaluation_scannet20/validation_2024-02-29_1114/pyviz/scene0695_02; python -m http.server 6008\n",
      "2) Open in browser:\n",
      "    http://0.0.0.0:6008\n",
      "************************************************************************\n",
      "\n",
      "************************************************************************\n",
      "1) Start local server:\n",
      "    cd /home/guangda/repos/labelmaker-mix3d/saved/evaluation_scannet20/validation_2024-02-29_1114/pyviz/scene0025_02; python -m http.server 6008\n",
      "2) Open in browser:\n",
      "    http://0.0.0.0:6008\n",
      "************************************************************************\n",
      "\n",
      "************************************************************************\n",
      "1) Start local server:\n",
      "    cd /home/guangda/repos/labelmaker-mix3d/saved/evaluation_scannet20/validation_2024-02-29_1114/pyviz/scene0552_00; python -m http.server 6008\n",
      "2) Open in browser:\n",
      "    http://0.0.0.0:6008\n",
      "************************************************************************\n",
      "\n",
      "************************************************************************\n",
      "1) Start local server:\n",
      "    cd /home/guangda/repos/labelmaker-mix3d/saved/evaluation_scannet20/validation_2024-02-29_1114/pyviz/scene0153_01; python -m http.server 6008\n",
      "2) Open in browser:\n",
      "    http://0.0.0.0:6008\n",
      "************************************************************************\n",
      "\n",
      "************************************************************************\n",
      "1) Start local server:\n",
      "    cd /home/guangda/repos/labelmaker-mix3d/saved/evaluation_scannet20/validation_2024-02-29_1114/pyviz/scene0701_02; python -m http.server 6008\n",
      "2) Open in browser:\n",
      "    http://0.0.0.0:6008\n",
      "************************************************************************\n"
     ]
    },
    {
     "name": "stderr",
     "output_type": "stream",
     "text": [
      "115it [00:06, 18.23it/s]"
     ]
    },
    {
     "name": "stdout",
     "output_type": "stream",
     "text": [
      "\n",
      "************************************************************************\n",
      "1) Start local server:\n",
      "    cd /home/guangda/repos/labelmaker-mix3d/saved/evaluation_scannet20/validation_2024-02-29_1114/pyviz/scene0695_00; python -m http.server 6008\n",
      "2) Open in browser:\n",
      "    http://0.0.0.0:6008\n",
      "************************************************************************\n",
      "\n",
      "************************************************************************\n",
      "1) Start local server:\n",
      "    cd /home/guangda/repos/labelmaker-mix3d/saved/evaluation_scannet20/validation_2024-02-29_1114/pyviz/scene0086_02; python -m http.server 6008\n",
      "2) Open in browser:\n",
      "    http://0.0.0.0:6008\n",
      "************************************************************************\n",
      "\n",
      "************************************************************************\n",
      "1) Start local server:\n",
      "    cd /home/guangda/repos/labelmaker-mix3d/saved/evaluation_scannet20/validation_2024-02-29_1114/pyviz/scene0329_01; python -m http.server 6008\n",
      "2) Open in browser:\n",
      "    http://0.0.0.0:6008\n",
      "************************************************************************\n",
      "\n",
      "************************************************************************\n",
      "1) Start local server:\n",
      "    cd /home/guangda/repos/labelmaker-mix3d/saved/evaluation_scannet20/validation_2024-02-29_1114/pyviz/scene0100_01; python -m http.server 6008\n",
      "2) Open in browser:\n",
      "    http://0.0.0.0:6008\n",
      "************************************************************************\n"
     ]
    },
    {
     "name": "stderr",
     "output_type": "stream",
     "text": [
      "117it [00:07, 18.08it/s]"
     ]
    },
    {
     "name": "stdout",
     "output_type": "stream",
     "text": [
      "\n",
      "************************************************************************\n",
      "1) Start local server:\n",
      "    cd /home/guangda/repos/labelmaker-mix3d/saved/evaluation_scannet20/validation_2024-02-29_1114/pyviz/scene0084_00; python -m http.server 6008\n",
      "2) Open in browser:\n",
      "    http://0.0.0.0:6008\n",
      "************************************************************************\n",
      "\n",
      "************************************************************************\n",
      "1) Start local server:\n",
      "    cd /home/guangda/repos/labelmaker-mix3d/saved/evaluation_scannet20/validation_2024-02-29_1114/pyviz/scene0695_03; python -m http.server 6008\n",
      "2) Open in browser:\n",
      "    http://0.0.0.0:6008\n",
      "************************************************************************\n"
     ]
    },
    {
     "name": "stderr",
     "output_type": "stream",
     "text": [
      "119it [00:07, 14.53it/s]"
     ]
    },
    {
     "name": "stdout",
     "output_type": "stream",
     "text": [
      "\n",
      "************************************************************************\n",
      "1) Start local server:\n",
      "    cd /home/guangda/repos/labelmaker-mix3d/saved/evaluation_scannet20/validation_2024-02-29_1114/pyviz/scene0307_01; python -m http.server 6008\n",
      "2) Open in browser:\n",
      "    http://0.0.0.0:6008\n",
      "************************************************************************\n",
      "\n",
      "************************************************************************\n",
      "1) Start local server:\n",
      "    cd /home/guangda/repos/labelmaker-mix3d/saved/evaluation_scannet20/validation_2024-02-29_1114/pyviz/scene0025_00; python -m http.server 6008\n",
      "2) Open in browser:\n",
      "    http://0.0.0.0:6008\n",
      "************************************************************************\n",
      "\n",
      "************************************************************************\n",
      "1) Start local server:\n",
      "    cd /home/guangda/repos/labelmaker-mix3d/saved/evaluation_scannet20/validation_2024-02-29_1114/pyviz/scene0377_02; python -m http.server 6008\n",
      "2) Open in browser:\n",
      "    http://0.0.0.0:6008\n",
      "************************************************************************\n",
      "\n",
      "************************************************************************\n",
      "1) Start local server:\n",
      "    cd /home/guangda/repos/labelmaker-mix3d/saved/evaluation_scannet20/validation_2024-02-29_1114/pyviz/scene0535_00; python -m http.server 6008\n",
      "2) Open in browser:\n",
      "    http://0.0.0.0:6008\n",
      "************************************************************************\n"
     ]
    },
    {
     "name": "stderr",
     "output_type": "stream",
     "text": [
      "125it [00:07, 16.55it/s]"
     ]
    },
    {
     "name": "stdout",
     "output_type": "stream",
     "text": [
      "\n",
      "************************************************************************\n",
      "1) Start local server:\n",
      "    cd /home/guangda/repos/labelmaker-mix3d/saved/evaluation_scannet20/validation_2024-02-29_1114/pyviz/scene0645_00; python -m http.server 6008\n",
      "2) Open in browser:\n",
      "    http://0.0.0.0:6008\n",
      "************************************************************************\n",
      "\n",
      "************************************************************************\n",
      "1) Start local server:\n",
      "    cd /home/guangda/repos/labelmaker-mix3d/saved/evaluation_scannet20/validation_2024-02-29_1114/pyviz/scene0633_00; python -m http.server 6008\n",
      "2) Open in browser:\n",
      "    http://0.0.0.0:6008\n",
      "************************************************************************\n",
      "\n",
      "************************************************************************\n",
      "1) Start local server:\n",
      "    cd /home/guangda/repos/labelmaker-mix3d/saved/evaluation_scannet20/validation_2024-02-29_1114/pyviz/scene0686_02; python -m http.server 6008\n",
      "2) Open in browser:\n",
      "    http://0.0.0.0:6008\n",
      "************************************************************************\n",
      "\n",
      "************************************************************************\n",
      "1) Start local server:\n",
      "    cd /home/guangda/repos/labelmaker-mix3d/saved/evaluation_scannet20/validation_2024-02-29_1114/pyviz/scene0606_00; python -m http.server 6008\n",
      "2) Open in browser:\n",
      "    http://0.0.0.0:6008\n",
      "************************************************************************\n",
      "\n",
      "************************************************************************\n",
      "1) Start local server:\n",
      "    cd /home/guangda/repos/labelmaker-mix3d/saved/evaluation_scannet20/validation_2024-02-29_1114/pyviz/scene0356_01; python -m http.server 6008\n",
      "2) Open in browser:\n",
      "    http://0.0.0.0:6008\n",
      "************************************************************************\n"
     ]
    },
    {
     "name": "stderr",
     "output_type": "stream",
     "text": [
      "131it [00:07, 18.69it/s]"
     ]
    },
    {
     "name": "stdout",
     "output_type": "stream",
     "text": [
      "\n",
      "************************************************************************\n",
      "1) Start local server:\n",
      "    cd /home/guangda/repos/labelmaker-mix3d/saved/evaluation_scannet20/validation_2024-02-29_1114/pyviz/scene0670_01; python -m http.server 6008\n",
      "2) Open in browser:\n",
      "    http://0.0.0.0:6008\n",
      "************************************************************************\n",
      "\n",
      "************************************************************************\n",
      "1) Start local server:\n",
      "    cd /home/guangda/repos/labelmaker-mix3d/saved/evaluation_scannet20/validation_2024-02-29_1114/pyviz/scene0406_01; python -m http.server 6008\n",
      "2) Open in browser:\n",
      "    http://0.0.0.0:6008\n",
      "************************************************************************\n",
      "\n",
      "************************************************************************\n",
      "1) Start local server:\n",
      "    cd /home/guangda/repos/labelmaker-mix3d/saved/evaluation_scannet20/validation_2024-02-29_1114/pyviz/scene0559_02; python -m http.server 6008\n",
      "2) Open in browser:\n",
      "    http://0.0.0.0:6008\n",
      "************************************************************************\n",
      "\n",
      "************************************************************************\n",
      "1) Start local server:\n",
      "    cd /home/guangda/repos/labelmaker-mix3d/saved/evaluation_scannet20/validation_2024-02-29_1114/pyviz/scene0356_00; python -m http.server 6008\n",
      "2) Open in browser:\n",
      "    http://0.0.0.0:6008\n",
      "************************************************************************\n",
      "\n",
      "************************************************************************\n",
      "1) Start local server:\n",
      "    cd /home/guangda/repos/labelmaker-mix3d/saved/evaluation_scannet20/validation_2024-02-29_1114/pyviz/scene0222_00; python -m http.server 6008\n",
      "2) Open in browser:\n",
      "    http://0.0.0.0:6008\n",
      "************************************************************************\n"
     ]
    },
    {
     "name": "stderr",
     "output_type": "stream",
     "text": [
      "133it [00:08, 16.94it/s]"
     ]
    },
    {
     "name": "stdout",
     "output_type": "stream",
     "text": [
      "\n",
      "************************************************************************\n",
      "1) Start local server:\n",
      "    cd /home/guangda/repos/labelmaker-mix3d/saved/evaluation_scannet20/validation_2024-02-29_1114/pyviz/scene0474_01; python -m http.server 6008\n",
      "2) Open in browser:\n",
      "    http://0.0.0.0:6008\n",
      "************************************************************************\n",
      "\n",
      "************************************************************************\n",
      "1) Start local server:\n",
      "    cd /home/guangda/repos/labelmaker-mix3d/saved/evaluation_scannet20/validation_2024-02-29_1114/pyviz/scene0334_01; python -m http.server 6008\n",
      "2) Open in browser:\n",
      "    http://0.0.0.0:6008\n",
      "************************************************************************\n",
      "\n",
      "************************************************************************\n",
      "1) Start local server:\n",
      "    cd /home/guangda/repos/labelmaker-mix3d/saved/evaluation_scannet20/validation_2024-02-29_1114/pyviz/scene0598_01; python -m http.server 6008\n",
      "2) Open in browser:\n",
      "    http://0.0.0.0:6008\n",
      "************************************************************************\n",
      "\n",
      "************************************************************************\n",
      "1) Start local server:\n",
      "    cd /home/guangda/repos/labelmaker-mix3d/saved/evaluation_scannet20/validation_2024-02-29_1114/pyviz/scene0578_00; python -m http.server 6008\n",
      "2) Open in browser:\n",
      "    http://0.0.0.0:6008\n",
      "************************************************************************\n"
     ]
    },
    {
     "name": "stderr",
     "output_type": "stream",
     "text": [
      "138it [00:08, 15.73it/s]"
     ]
    },
    {
     "name": "stdout",
     "output_type": "stream",
     "text": [
      "\n",
      "************************************************************************\n",
      "1) Start local server:\n",
      "    cd /home/guangda/repos/labelmaker-mix3d/saved/evaluation_scannet20/validation_2024-02-29_1114/pyviz/scene0474_05; python -m http.server 6008\n",
      "2) Open in browser:\n",
      "    http://0.0.0.0:6008\n",
      "************************************************************************\n",
      "\n",
      "************************************************************************\n",
      "1) Start local server:\n",
      "    cd /home/guangda/repos/labelmaker-mix3d/saved/evaluation_scannet20/validation_2024-02-29_1114/pyviz/scene0307_02; python -m http.server 6008\n",
      "2) Open in browser:\n",
      "    http://0.0.0.0:6008\n",
      "************************************************************************\n",
      "\n",
      "************************************************************************\n",
      "1) Start local server:\n",
      "    cd /home/guangda/repos/labelmaker-mix3d/saved/evaluation_scannet20/validation_2024-02-29_1114/pyviz/scene0559_01; python -m http.server 6008\n",
      "2) Open in browser:\n",
      "    http://0.0.0.0:6008\n",
      "************************************************************************\n"
     ]
    },
    {
     "name": "stderr",
     "output_type": "stream",
     "text": [
      "140it [00:08, 15.99it/s]"
     ]
    },
    {
     "name": "stdout",
     "output_type": "stream",
     "text": [
      "\n",
      "************************************************************************\n",
      "1) Start local server:\n",
      "    cd /home/guangda/repos/labelmaker-mix3d/saved/evaluation_scannet20/validation_2024-02-29_1114/pyviz/scene0700_00; python -m http.server 6008\n",
      "2) Open in browser:\n",
      "    http://0.0.0.0:6008\n",
      "************************************************************************\n",
      "\n",
      "************************************************************************\n",
      "1) Start local server:\n",
      "    cd /home/guangda/repos/labelmaker-mix3d/saved/evaluation_scannet20/validation_2024-02-29_1114/pyviz/scene0019_01; python -m http.server 6008\n",
      "2) Open in browser:\n",
      "    http://0.0.0.0:6008\n",
      "************************************************************************\n",
      "\n",
      "************************************************************************\n",
      "1) Start local server:\n",
      "    cd /home/guangda/repos/labelmaker-mix3d/saved/evaluation_scannet20/validation_2024-02-29_1114/pyviz/scene0599_02; python -m http.server 6008\n",
      "2) Open in browser:\n",
      "    http://0.0.0.0:6008\n",
      "************************************************************************\n",
      "\n",
      "************************************************************************\n",
      "1) Start local server:\n",
      "    cd /home/guangda/repos/labelmaker-mix3d/saved/evaluation_scannet20/validation_2024-02-29_1114/pyviz/scene0277_02; python -m http.server 6008\n",
      "2) Open in browser:\n",
      "    http://0.0.0.0:6008\n",
      "************************************************************************\n"
     ]
    },
    {
     "name": "stderr",
     "output_type": "stream",
     "text": [
      "143it [00:08, 16.86it/s]"
     ]
    },
    {
     "name": "stdout",
     "output_type": "stream",
     "text": [
      "\n",
      "************************************************************************\n",
      "1) Start local server:\n",
      "    cd /home/guangda/repos/labelmaker-mix3d/saved/evaluation_scannet20/validation_2024-02-29_1114/pyviz/scene0568_01; python -m http.server 6008\n",
      "2) Open in browser:\n",
      "    http://0.0.0.0:6008\n",
      "************************************************************************\n",
      "\n",
      "************************************************************************\n",
      "1) Start local server:\n",
      "    cd /home/guangda/repos/labelmaker-mix3d/saved/evaluation_scannet20/validation_2024-02-29_1114/pyviz/scene0700_02; python -m http.server 6008\n",
      "2) Open in browser:\n",
      "    http://0.0.0.0:6008\n",
      "************************************************************************\n"
     ]
    },
    {
     "name": "stderr",
     "output_type": "stream",
     "text": [
      "147it [00:09, 14.92it/s]"
     ]
    },
    {
     "name": "stdout",
     "output_type": "stream",
     "text": [
      "\n",
      "************************************************************************\n",
      "1) Start local server:\n",
      "    cd /home/guangda/repos/labelmaker-mix3d/saved/evaluation_scannet20/validation_2024-02-29_1114/pyviz/scene0231_00; python -m http.server 6008\n",
      "2) Open in browser:\n",
      "    http://0.0.0.0:6008\n",
      "************************************************************************\n",
      "\n",
      "************************************************************************\n",
      "1) Start local server:\n",
      "    cd /home/guangda/repos/labelmaker-mix3d/saved/evaluation_scannet20/validation_2024-02-29_1114/pyviz/scene0697_01; python -m http.server 6008\n",
      "2) Open in browser:\n",
      "    http://0.0.0.0:6008\n",
      "************************************************************************\n",
      "\n",
      "************************************************************************\n",
      "1) Start local server:\n",
      "    cd /home/guangda/repos/labelmaker-mix3d/saved/evaluation_scannet20/validation_2024-02-29_1114/pyviz/scene0462_00; python -m http.server 6008\n",
      "2) Open in browser:\n",
      "    http://0.0.0.0:6008\n",
      "************************************************************************\n",
      "\n",
      "************************************************************************\n",
      "1) Start local server:\n",
      "    cd /home/guangda/repos/labelmaker-mix3d/saved/evaluation_scannet20/validation_2024-02-29_1114/pyviz/scene0574_02; python -m http.server 6008\n",
      "2) Open in browser:\n",
      "    http://0.0.0.0:6008\n",
      "************************************************************************\n",
      "\n",
      "************************************************************************\n",
      "1) Start local server:\n",
      "    cd /home/guangda/repos/labelmaker-mix3d/saved/evaluation_scannet20/validation_2024-02-29_1114/pyviz/scene0697_02; python -m http.server 6008\n",
      "2) Open in browser:\n",
      "    http://0.0.0.0:6008\n",
      "************************************************************************\n"
     ]
    },
    {
     "name": "stderr",
     "output_type": "stream",
     "text": [
      "152it [00:09, 16.64it/s]"
     ]
    },
    {
     "name": "stdout",
     "output_type": "stream",
     "text": [
      "\n",
      "************************************************************************\n",
      "1) Start local server:\n",
      "    cd /home/guangda/repos/labelmaker-mix3d/saved/evaluation_scannet20/validation_2024-02-29_1114/pyviz/scene0131_01; python -m http.server 6008\n",
      "2) Open in browser:\n",
      "    http://0.0.0.0:6008\n",
      "************************************************************************\n",
      "\n",
      "************************************************************************\n",
      "1) Start local server:\n",
      "    cd /home/guangda/repos/labelmaker-mix3d/saved/evaluation_scannet20/validation_2024-02-29_1114/pyviz/scene0131_00; python -m http.server 6008\n",
      "2) Open in browser:\n",
      "    http://0.0.0.0:6008\n",
      "************************************************************************\n",
      "\n",
      "************************************************************************\n",
      "1) Start local server:\n",
      "    cd /home/guangda/repos/labelmaker-mix3d/saved/evaluation_scannet20/validation_2024-02-29_1114/pyviz/scene0081_02; python -m http.server 6008\n",
      "2) Open in browser:\n",
      "    http://0.0.0.0:6008\n",
      "************************************************************************\n",
      "\n",
      "************************************************************************\n",
      "1) Start local server:\n",
      "    cd /home/guangda/repos/labelmaker-mix3d/saved/evaluation_scannet20/validation_2024-02-29_1114/pyviz/scene0427_00; python -m http.server 6008\n",
      "2) Open in browser:\n",
      "    http://0.0.0.0:6008\n",
      "************************************************************************\n",
      "\n",
      "************************************************************************\n",
      "1) Start local server:\n",
      "    cd /home/guangda/repos/labelmaker-mix3d/saved/evaluation_scannet20/validation_2024-02-29_1114/pyviz/scene0651_00; python -m http.server 6008\n",
      "2) Open in browser:\n",
      "    http://0.0.0.0:6008\n",
      "************************************************************************\n"
     ]
    },
    {
     "name": "stderr",
     "output_type": "stream",
     "text": [
      "156it [00:09, 19.05it/s]"
     ]
    },
    {
     "name": "stdout",
     "output_type": "stream",
     "text": [
      "\n",
      "************************************************************************\n",
      "1) Start local server:\n",
      "    cd /home/guangda/repos/labelmaker-mix3d/saved/evaluation_scannet20/validation_2024-02-29_1114/pyviz/scene0553_02; python -m http.server 6008\n",
      "2) Open in browser:\n",
      "    http://0.0.0.0:6008\n",
      "************************************************************************\n",
      "\n",
      "************************************************************************\n",
      "1) Start local server:\n",
      "    cd /home/guangda/repos/labelmaker-mix3d/saved/evaluation_scannet20/validation_2024-02-29_1114/pyviz/scene0169_00; python -m http.server 6008\n",
      "2) Open in browser:\n",
      "    http://0.0.0.0:6008\n",
      "************************************************************************\n"
     ]
    },
    {
     "name": "stderr",
     "output_type": "stream",
     "text": [
      "158it [00:09, 16.05it/s]"
     ]
    },
    {
     "name": "stdout",
     "output_type": "stream",
     "text": [
      "\n",
      "************************************************************************\n",
      "1) Start local server:\n",
      "    cd /home/guangda/repos/labelmaker-mix3d/saved/evaluation_scannet20/validation_2024-02-29_1114/pyviz/scene0678_01; python -m http.server 6008\n",
      "2) Open in browser:\n",
      "    http://0.0.0.0:6008\n",
      "************************************************************************\n",
      "\n",
      "************************************************************************\n",
      "1) Start local server:\n",
      "    cd /home/guangda/repos/labelmaker-mix3d/saved/evaluation_scannet20/validation_2024-02-29_1114/pyviz/scene0578_02; python -m http.server 6008\n",
      "2) Open in browser:\n",
      "    http://0.0.0.0:6008\n",
      "************************************************************************\n",
      "\n",
      "************************************************************************\n",
      "1) Start local server:\n",
      "    cd /home/guangda/repos/labelmaker-mix3d/saved/evaluation_scannet20/validation_2024-02-29_1114/pyviz/scene0645_02; python -m http.server 6008\n",
      "2) Open in browser:\n",
      "    http://0.0.0.0:6008\n",
      "************************************************************************\n"
     ]
    },
    {
     "name": "stderr",
     "output_type": "stream",
     "text": [
      "163it [00:09, 16.54it/s]"
     ]
    },
    {
     "name": "stdout",
     "output_type": "stream",
     "text": [
      "\n",
      "************************************************************************\n",
      "1) Start local server:\n",
      "    cd /home/guangda/repos/labelmaker-mix3d/saved/evaluation_scannet20/validation_2024-02-29_1114/pyviz/scene0568_02; python -m http.server 6008\n",
      "2) Open in browser:\n",
      "    http://0.0.0.0:6008\n",
      "************************************************************************\n",
      "\n",
      "************************************************************************\n",
      "1) Start local server:\n",
      "    cd /home/guangda/repos/labelmaker-mix3d/saved/evaluation_scannet20/validation_2024-02-29_1114/pyviz/scene0595_00; python -m http.server 6008\n",
      "2) Open in browser:\n",
      "    http://0.0.0.0:6008\n",
      "************************************************************************\n",
      "\n",
      "************************************************************************\n",
      "1) Start local server:\n",
      "    cd /home/guangda/repos/labelmaker-mix3d/saved/evaluation_scannet20/validation_2024-02-29_1114/pyviz/scene0256_00; python -m http.server 6008\n",
      "2) Open in browser:\n",
      "    http://0.0.0.0:6008\n",
      "************************************************************************\n",
      "\n",
      "************************************************************************\n",
      "1) Start local server:\n",
      "    cd /home/guangda/repos/labelmaker-mix3d/saved/evaluation_scannet20/validation_2024-02-29_1114/pyviz/scene0658_00; python -m http.server 6008\n",
      "2) Open in browser:\n",
      "    http://0.0.0.0:6008\n",
      "************************************************************************\n"
     ]
    },
    {
     "name": "stderr",
     "output_type": "stream",
     "text": [
      "168it [00:10, 18.59it/s]"
     ]
    },
    {
     "name": "stdout",
     "output_type": "stream",
     "text": [
      "\n",
      "************************************************************************\n",
      "1) Start local server:\n",
      "    cd /home/guangda/repos/labelmaker-mix3d/saved/evaluation_scannet20/validation_2024-02-29_1114/pyviz/scene0334_00; python -m http.server 6008\n",
      "2) Open in browser:\n",
      "    http://0.0.0.0:6008\n",
      "************************************************************************\n",
      "\n",
      "************************************************************************\n",
      "1) Start local server:\n",
      "    cd /home/guangda/repos/labelmaker-mix3d/saved/evaluation_scannet20/validation_2024-02-29_1114/pyviz/scene0609_01; python -m http.server 6008\n",
      "2) Open in browser:\n",
      "    http://0.0.0.0:6008\n",
      "************************************************************************\n",
      "\n",
      "************************************************************************\n",
      "1) Start local server:\n",
      "    cd /home/guangda/repos/labelmaker-mix3d/saved/evaluation_scannet20/validation_2024-02-29_1114/pyviz/scene0647_01; python -m http.server 6008\n",
      "2) Open in browser:\n",
      "    http://0.0.0.0:6008\n",
      "************************************************************************\n",
      "\n",
      "************************************************************************\n",
      "1) Start local server:\n",
      "    cd /home/guangda/repos/labelmaker-mix3d/saved/evaluation_scannet20/validation_2024-02-29_1114/pyviz/scene0063_00; python -m http.server 6008\n",
      "2) Open in browser:\n",
      "    http://0.0.0.0:6008\n",
      "************************************************************************\n",
      "\n",
      "************************************************************************\n",
      "1) Start local server:\n",
      "    cd /home/guangda/repos/labelmaker-mix3d/saved/evaluation_scannet20/validation_2024-02-29_1114/pyviz/scene0633_01; python -m http.server 6008\n",
      "2) Open in browser:\n",
      "    http://0.0.0.0:6008\n",
      "************************************************************************\n"
     ]
    },
    {
     "name": "stderr",
     "output_type": "stream",
     "text": [
      "172it [00:10, 20.84it/s]"
     ]
    },
    {
     "name": "stdout",
     "output_type": "stream",
     "text": [
      "\n",
      "************************************************************************\n",
      "1) Start local server:\n",
      "    cd /home/guangda/repos/labelmaker-mix3d/saved/evaluation_scannet20/validation_2024-02-29_1114/pyviz/scene0686_01; python -m http.server 6008\n",
      "2) Open in browser:\n",
      "    http://0.0.0.0:6008\n",
      "************************************************************************\n",
      "\n",
      "************************************************************************\n",
      "1) Start local server:\n",
      "    cd /home/guangda/repos/labelmaker-mix3d/saved/evaluation_scannet20/validation_2024-02-29_1114/pyviz/scene0702_01; python -m http.server 6008\n",
      "2) Open in browser:\n",
      "    http://0.0.0.0:6008\n",
      "************************************************************************\n",
      "\n",
      "************************************************************************\n",
      "1) Start local server:\n",
      "    cd /home/guangda/repos/labelmaker-mix3d/saved/evaluation_scannet20/validation_2024-02-29_1114/pyviz/scene0441_00; python -m http.server 6008\n",
      "2) Open in browser:\n",
      "    http://0.0.0.0:6008\n",
      "************************************************************************\n",
      "\n",
      "************************************************************************\n",
      "1) Start local server:\n",
      "    cd /home/guangda/repos/labelmaker-mix3d/saved/evaluation_scannet20/validation_2024-02-29_1114/pyviz/scene0050_01; python -m http.server 6008\n",
      "2) Open in browser:\n",
      "    http://0.0.0.0:6008\n",
      "************************************************************************\n",
      "\n",
      "************************************************************************\n",
      "1) Start local server:\n",
      "    cd /home/guangda/repos/labelmaker-mix3d/saved/evaluation_scannet20/validation_2024-02-29_1114/pyviz/scene0378_01; python -m http.server 6008\n",
      "2) Open in browser:\n",
      "    http://0.0.0.0:6008\n",
      "************************************************************************\n"
     ]
    },
    {
     "name": "stderr",
     "output_type": "stream",
     "text": [
      "175it [00:10, 18.02it/s]"
     ]
    },
    {
     "name": "stdout",
     "output_type": "stream",
     "text": [
      "\n",
      "************************************************************************\n",
      "1) Start local server:\n",
      "    cd /home/guangda/repos/labelmaker-mix3d/saved/evaluation_scannet20/validation_2024-02-29_1114/pyviz/scene0558_00; python -m http.server 6008\n",
      "2) Open in browser:\n",
      "    http://0.0.0.0:6008\n",
      "************************************************************************\n",
      "\n",
      "************************************************************************\n",
      "1) Start local server:\n",
      "    cd /home/guangda/repos/labelmaker-mix3d/saved/evaluation_scannet20/validation_2024-02-29_1114/pyviz/scene0249_00; python -m http.server 6008\n",
      "2) Open in browser:\n",
      "    http://0.0.0.0:6008\n",
      "************************************************************************\n",
      "\n",
      "************************************************************************\n",
      "1) Start local server:\n",
      "    cd /home/guangda/repos/labelmaker-mix3d/saved/evaluation_scannet20/validation_2024-02-29_1114/pyviz/scene0606_02; python -m http.server 6008\n",
      "2) Open in browser:\n",
      "    http://0.0.0.0:6008\n",
      "************************************************************************\n"
     ]
    },
    {
     "name": "stderr",
     "output_type": "stream",
     "text": [
      "178it [00:10, 18.53it/s]"
     ]
    },
    {
     "name": "stdout",
     "output_type": "stream",
     "text": [
      "\n",
      "************************************************************************\n",
      "1) Start local server:\n",
      "    cd /home/guangda/repos/labelmaker-mix3d/saved/evaluation_scannet20/validation_2024-02-29_1114/pyviz/scene0164_03; python -m http.server 6008\n",
      "2) Open in browser:\n",
      "    http://0.0.0.0:6008\n",
      "************************************************************************\n",
      "\n",
      "************************************************************************\n",
      "1) Start local server:\n",
      "    cd /home/guangda/repos/labelmaker-mix3d/saved/evaluation_scannet20/validation_2024-02-29_1114/pyviz/scene0704_01; python -m http.server 6008\n",
      "2) Open in browser:\n",
      "    http://0.0.0.0:6008\n",
      "************************************************************************\n",
      "\n",
      "************************************************************************\n",
      "1) Start local server:\n",
      "    cd /home/guangda/repos/labelmaker-mix3d/saved/evaluation_scannet20/validation_2024-02-29_1114/pyviz/scene0693_00; python -m http.server 6008\n",
      "2) Open in browser:\n",
      "    http://0.0.0.0:6008\n",
      "************************************************************************\n",
      "\n",
      "************************************************************************\n",
      "1) Start local server:\n",
      "    cd /home/guangda/repos/labelmaker-mix3d/saved/evaluation_scannet20/validation_2024-02-29_1114/pyviz/scene0095_01; python -m http.server 6008\n",
      "2) Open in browser:\n",
      "    http://0.0.0.0:6008\n",
      "************************************************************************\n"
     ]
    },
    {
     "name": "stderr",
     "output_type": "stream",
     "text": [
      "184it [00:11, 19.28it/s]"
     ]
    },
    {
     "name": "stdout",
     "output_type": "stream",
     "text": [
      "\n",
      "************************************************************************\n",
      "1) Start local server:\n",
      "    cd /home/guangda/repos/labelmaker-mix3d/saved/evaluation_scannet20/validation_2024-02-29_1114/pyviz/scene0435_03; python -m http.server 6008\n",
      "2) Open in browser:\n",
      "    http://0.0.0.0:6008\n",
      "************************************************************************\n",
      "\n",
      "************************************************************************\n",
      "1) Start local server:\n",
      "    cd /home/guangda/repos/labelmaker-mix3d/saved/evaluation_scannet20/validation_2024-02-29_1114/pyviz/scene0139_00; python -m http.server 6008\n",
      "2) Open in browser:\n",
      "    http://0.0.0.0:6008\n",
      "************************************************************************\n",
      "\n",
      "************************************************************************\n",
      "1) Start local server:\n",
      "    cd /home/guangda/repos/labelmaker-mix3d/saved/evaluation_scannet20/validation_2024-02-29_1114/pyviz/scene0351_01; python -m http.server 6008\n",
      "2) Open in browser:\n",
      "    http://0.0.0.0:6008\n",
      "************************************************************************\n",
      "\n",
      "************************************************************************\n",
      "1) Start local server:\n",
      "    cd /home/guangda/repos/labelmaker-mix3d/saved/evaluation_scannet20/validation_2024-02-29_1114/pyviz/scene0426_01; python -m http.server 6008\n",
      "2) Open in browser:\n",
      "    http://0.0.0.0:6008\n",
      "************************************************************************\n",
      "\n",
      "************************************************************************\n",
      "1) Start local server:\n",
      "    cd /home/guangda/repos/labelmaker-mix3d/saved/evaluation_scannet20/validation_2024-02-29_1114/pyviz/scene0685_01; python -m http.server 6008\n",
      "2) Open in browser:\n",
      "    http://0.0.0.0:6008\n",
      "************************************************************************\n"
     ]
    },
    {
     "name": "stderr",
     "output_type": "stream",
     "text": [
      "187it [00:11, 19.13it/s]"
     ]
    },
    {
     "name": "stdout",
     "output_type": "stream",
     "text": [
      "\n",
      "************************************************************************\n",
      "1) Start local server:\n",
      "    cd /home/guangda/repos/labelmaker-mix3d/saved/evaluation_scannet20/validation_2024-02-29_1114/pyviz/scene0146_02; python -m http.server 6008\n",
      "2) Open in browser:\n",
      "    http://0.0.0.0:6008\n",
      "************************************************************************\n",
      "\n",
      "************************************************************************\n",
      "1) Start local server:\n",
      "    cd /home/guangda/repos/labelmaker-mix3d/saved/evaluation_scannet20/validation_2024-02-29_1114/pyviz/scene0621_00; python -m http.server 6008\n",
      "2) Open in browser:\n",
      "    http://0.0.0.0:6008\n",
      "************************************************************************\n",
      "\n",
      "************************************************************************\n",
      "1) Start local server:\n",
      "    cd /home/guangda/repos/labelmaker-mix3d/saved/evaluation_scannet20/validation_2024-02-29_1114/pyviz/scene0474_04; python -m http.server 6008\n",
      "2) Open in browser:\n",
      "    http://0.0.0.0:6008\n",
      "************************************************************************\n"
     ]
    },
    {
     "name": "stderr",
     "output_type": "stream",
     "text": [
      "191it [00:11, 18.24it/s]"
     ]
    },
    {
     "name": "stdout",
     "output_type": "stream",
     "text": [
      "\n",
      "************************************************************************\n",
      "1) Start local server:\n",
      "    cd /home/guangda/repos/labelmaker-mix3d/saved/evaluation_scannet20/validation_2024-02-29_1114/pyviz/scene0050_00; python -m http.server 6008\n",
      "2) Open in browser:\n",
      "    http://0.0.0.0:6008\n",
      "************************************************************************\n",
      "\n",
      "************************************************************************\n",
      "1) Start local server:\n",
      "    cd /home/guangda/repos/labelmaker-mix3d/saved/evaluation_scannet20/validation_2024-02-29_1114/pyviz/scene0435_02; python -m http.server 6008\n",
      "2) Open in browser:\n",
      "    http://0.0.0.0:6008\n",
      "************************************************************************\n",
      "\n",
      "************************************************************************\n",
      "1) Start local server:\n",
      "    cd /home/guangda/repos/labelmaker-mix3d/saved/evaluation_scannet20/validation_2024-02-29_1114/pyviz/scene0314_00; python -m http.server 6008\n",
      "2) Open in browser:\n",
      "    http://0.0.0.0:6008\n",
      "************************************************************************\n",
      "\n",
      "************************************************************************\n",
      "1) Start local server:\n",
      "    cd /home/guangda/repos/labelmaker-mix3d/saved/evaluation_scannet20/validation_2024-02-29_1114/pyviz/scene0011_01; python -m http.server 6008\n",
      "2) Open in browser:\n",
      "    http://0.0.0.0:6008\n",
      "************************************************************************\n"
     ]
    },
    {
     "name": "stderr",
     "output_type": "stream",
     "text": [
      "195it [00:11, 15.52it/s]"
     ]
    },
    {
     "name": "stdout",
     "output_type": "stream",
     "text": [
      "\n",
      "************************************************************************\n",
      "1) Start local server:\n",
      "    cd /home/guangda/repos/labelmaker-mix3d/saved/evaluation_scannet20/validation_2024-02-29_1114/pyviz/scene0574_00; python -m http.server 6008\n",
      "2) Open in browser:\n",
      "    http://0.0.0.0:6008\n",
      "************************************************************************\n",
      "\n",
      "************************************************************************\n",
      "1) Start local server:\n",
      "    cd /home/guangda/repos/labelmaker-mix3d/saved/evaluation_scannet20/validation_2024-02-29_1114/pyviz/scene0500_01; python -m http.server 6008\n",
      "2) Open in browser:\n",
      "    http://0.0.0.0:6008\n",
      "************************************************************************\n",
      "\n",
      "************************************************************************\n",
      "1) Start local server:\n",
      "    cd /home/guangda/repos/labelmaker-mix3d/saved/evaluation_scannet20/validation_2024-02-29_1114/pyviz/scene0608_00; python -m http.server 6008\n",
      "2) Open in browser:\n",
      "    http://0.0.0.0:6008\n",
      "************************************************************************\n"
     ]
    },
    {
     "name": "stderr",
     "output_type": "stream",
     "text": [
      "198it [00:11, 17.59it/s]"
     ]
    },
    {
     "name": "stdout",
     "output_type": "stream",
     "text": [
      "\n",
      "************************************************************************\n",
      "1) Start local server:\n",
      "    cd /home/guangda/repos/labelmaker-mix3d/saved/evaluation_scannet20/validation_2024-02-29_1114/pyviz/scene0153_00; python -m http.server 6008\n",
      "2) Open in browser:\n",
      "    http://0.0.0.0:6008\n",
      "************************************************************************\n",
      "\n",
      "************************************************************************\n",
      "1) Start local server:\n",
      "    cd /home/guangda/repos/labelmaker-mix3d/saved/evaluation_scannet20/validation_2024-02-29_1114/pyviz/scene0081_01; python -m http.server 6008\n",
      "2) Open in browser:\n",
      "    http://0.0.0.0:6008\n",
      "************************************************************************\n",
      "\n",
      "************************************************************************\n",
      "1) Start local server:\n",
      "    cd /home/guangda/repos/labelmaker-mix3d/saved/evaluation_scannet20/validation_2024-02-29_1114/pyviz/scene0412_01; python -m http.server 6008\n",
      "2) Open in browser:\n",
      "    http://0.0.0.0:6008\n",
      "************************************************************************\n",
      "\n",
      "************************************************************************\n",
      "1) Start local server:\n",
      "    cd /home/guangda/repos/labelmaker-mix3d/saved/evaluation_scannet20/validation_2024-02-29_1114/pyviz/scene0377_01; python -m http.server 6008\n",
      "2) Open in browser:\n",
      "    http://0.0.0.0:6008\n",
      "************************************************************************\n",
      "\n",
      "************************************************************************\n",
      "1) Start local server:\n",
      "    cd /home/guangda/repos/labelmaker-mix3d/saved/evaluation_scannet20/validation_2024-02-29_1114/pyviz/scene0458_01; python -m http.server 6008\n",
      "2) Open in browser:\n",
      "    http://0.0.0.0:6008\n",
      "************************************************************************\n"
     ]
    },
    {
     "name": "stderr",
     "output_type": "stream",
     "text": [
      "204it [00:12, 17.95it/s]"
     ]
    },
    {
     "name": "stdout",
     "output_type": "stream",
     "text": [
      "\n",
      "************************************************************************\n",
      "1) Start local server:\n",
      "    cd /home/guangda/repos/labelmaker-mix3d/saved/evaluation_scannet20/validation_2024-02-29_1114/pyviz/scene0019_00; python -m http.server 6008\n",
      "2) Open in browser:\n",
      "    http://0.0.0.0:6008\n",
      "************************************************************************\n",
      "\n",
      "************************************************************************\n",
      "1) Start local server:\n",
      "    cd /home/guangda/repos/labelmaker-mix3d/saved/evaluation_scannet20/validation_2024-02-29_1114/pyviz/scene0696_01; python -m http.server 6008\n",
      "2) Open in browser:\n",
      "    http://0.0.0.0:6008\n",
      "************************************************************************\n",
      "\n",
      "************************************************************************\n",
      "1) Start local server:\n",
      "    cd /home/guangda/repos/labelmaker-mix3d/saved/evaluation_scannet20/validation_2024-02-29_1114/pyviz/scene0606_01; python -m http.server 6008\n",
      "2) Open in browser:\n",
      "    http://0.0.0.0:6008\n",
      "************************************************************************\n",
      "\n",
      "************************************************************************\n",
      "1) Start local server:\n",
      "    cd /home/guangda/repos/labelmaker-mix3d/saved/evaluation_scannet20/validation_2024-02-29_1114/pyviz/scene0578_01; python -m http.server 6008\n",
      "2) Open in browser:\n",
      "    http://0.0.0.0:6008\n",
      "************************************************************************\n"
     ]
    },
    {
     "name": "stderr",
     "output_type": "stream",
     "text": [
      "207it [00:12, 20.41it/s]"
     ]
    },
    {
     "name": "stdout",
     "output_type": "stream",
     "text": [
      "\n",
      "************************************************************************\n",
      "1) Start local server:\n",
      "    cd /home/guangda/repos/labelmaker-mix3d/saved/evaluation_scannet20/validation_2024-02-29_1114/pyviz/scene0494_00; python -m http.server 6008\n",
      "2) Open in browser:\n",
      "    http://0.0.0.0:6008\n",
      "************************************************************************\n",
      "\n",
      "************************************************************************\n",
      "1) Start local server:\n",
      "    cd /home/guangda/repos/labelmaker-mix3d/saved/evaluation_scannet20/validation_2024-02-29_1114/pyviz/scene0648_01; python -m http.server 6008\n",
      "2) Open in browser:\n",
      "    http://0.0.0.0:6008\n",
      "************************************************************************\n",
      "\n",
      "************************************************************************\n",
      "1) Start local server:\n",
      "    cd /home/guangda/repos/labelmaker-mix3d/saved/evaluation_scannet20/validation_2024-02-29_1114/pyviz/scene0423_01; python -m http.server 6008\n",
      "2) Open in browser:\n",
      "    http://0.0.0.0:6008\n",
      "************************************************************************\n",
      "\n",
      "************************************************************************\n",
      "1) Start local server:\n",
      "    cd /home/guangda/repos/labelmaker-mix3d/saved/evaluation_scannet20/validation_2024-02-29_1114/pyviz/scene0689_00; python -m http.server 6008\n",
      "2) Open in browser:\n",
      "    http://0.0.0.0:6008\n",
      "************************************************************************\n",
      "\n",
      "************************************************************************\n",
      "1) Start local server:\n",
      "    cd /home/guangda/repos/labelmaker-mix3d/saved/evaluation_scannet20/validation_2024-02-29_1114/pyviz/scene0458_00; python -m http.server 6008\n",
      "2) Open in browser:\n",
      "    http://0.0.0.0:6008\n",
      "************************************************************************\n",
      "\n",
      "************************************************************************\n",
      "1) Start local server:\n",
      "    cd /home/guangda/repos/labelmaker-mix3d/saved/evaluation_scannet20/validation_2024-02-29_1114/pyviz/scene0702_00; python -m http.server 6008\n",
      "2) Open in browser:\n",
      "    http://0.0.0.0:6008\n",
      "************************************************************************\n"
     ]
    },
    {
     "name": "stderr",
     "output_type": "stream",
     "text": [
      "214it [00:12, 19.98it/s]"
     ]
    },
    {
     "name": "stdout",
     "output_type": "stream",
     "text": [
      "\n",
      "************************************************************************\n",
      "1) Start local server:\n",
      "    cd /home/guangda/repos/labelmaker-mix3d/saved/evaluation_scannet20/validation_2024-02-29_1114/pyviz/scene0549_00; python -m http.server 6008\n",
      "2) Open in browser:\n",
      "    http://0.0.0.0:6008\n",
      "************************************************************************\n",
      "\n",
      "************************************************************************\n",
      "1) Start local server:\n",
      "    cd /home/guangda/repos/labelmaker-mix3d/saved/evaluation_scannet20/validation_2024-02-29_1114/pyviz/scene0655_01; python -m http.server 6008\n",
      "2) Open in browser:\n",
      "    http://0.0.0.0:6008\n",
      "************************************************************************\n",
      "\n",
      "************************************************************************\n",
      "1) Start local server:\n",
      "    cd /home/guangda/repos/labelmaker-mix3d/saved/evaluation_scannet20/validation_2024-02-29_1114/pyviz/scene0696_02; python -m http.server 6008\n",
      "2) Open in browser:\n",
      "    http://0.0.0.0:6008\n",
      "************************************************************************\n",
      "\n",
      "************************************************************************\n",
      "1) Start local server:\n",
      "    cd /home/guangda/repos/labelmaker-mix3d/saved/evaluation_scannet20/validation_2024-02-29_1114/pyviz/scene0651_01; python -m http.server 6008\n",
      "2) Open in browser:\n",
      "    http://0.0.0.0:6008\n",
      "************************************************************************\n"
     ]
    },
    {
     "name": "stderr",
     "output_type": "stream",
     "text": [
      "217it [00:12, 17.87it/s]"
     ]
    },
    {
     "name": "stdout",
     "output_type": "stream",
     "text": [
      "\n",
      "************************************************************************\n",
      "1) Start local server:\n",
      "    cd /home/guangda/repos/labelmaker-mix3d/saved/evaluation_scannet20/validation_2024-02-29_1114/pyviz/scene0653_00; python -m http.server 6008\n",
      "2) Open in browser:\n",
      "    http://0.0.0.0:6008\n",
      "************************************************************************\n",
      "\n",
      "************************************************************************\n",
      "1) Start local server:\n",
      "    cd /home/guangda/repos/labelmaker-mix3d/saved/evaluation_scannet20/validation_2024-02-29_1114/pyviz/scene0490_00; python -m http.server 6008\n",
      "2) Open in browser:\n",
      "    http://0.0.0.0:6008\n",
      "************************************************************************\n",
      "\n",
      "************************************************************************\n",
      "1) Start local server:\n",
      "    cd /home/guangda/repos/labelmaker-mix3d/saved/evaluation_scannet20/validation_2024-02-29_1114/pyviz/scene0593_01; python -m http.server 6008\n",
      "2) Open in browser:\n",
      "    http://0.0.0.0:6008\n",
      "************************************************************************\n",
      "\n",
      "************************************************************************\n",
      "1) Start local server:\n",
      "    cd /home/guangda/repos/labelmaker-mix3d/saved/evaluation_scannet20/validation_2024-02-29_1114/pyviz/scene0598_00; python -m http.server 6008\n",
      "2) Open in browser:\n",
      "    http://0.0.0.0:6008\n",
      "************************************************************************\n"
     ]
    },
    {
     "name": "stderr",
     "output_type": "stream",
     "text": [
      "221it [00:13, 17.33it/s]"
     ]
    },
    {
     "name": "stdout",
     "output_type": "stream",
     "text": [
      "\n",
      "************************************************************************\n",
      "1) Start local server:\n",
      "    cd /home/guangda/repos/labelmaker-mix3d/saved/evaluation_scannet20/validation_2024-02-29_1114/pyviz/scene0575_00; python -m http.server 6008\n",
      "2) Open in browser:\n",
      "    http://0.0.0.0:6008\n",
      "************************************************************************\n",
      "\n",
      "************************************************************************\n",
      "1) Start local server:\n",
      "    cd /home/guangda/repos/labelmaker-mix3d/saved/evaluation_scannet20/validation_2024-02-29_1114/pyviz/scene0046_00; python -m http.server 6008\n",
      "2) Open in browser:\n",
      "    http://0.0.0.0:6008\n",
      "************************************************************************\n",
      "\n",
      "************************************************************************\n",
      "1) Start local server:\n",
      "    cd /home/guangda/repos/labelmaker-mix3d/saved/evaluation_scannet20/validation_2024-02-29_1114/pyviz/scene0643_00; python -m http.server 6008\n",
      "2) Open in browser:\n",
      "    http://0.0.0.0:6008\n",
      "************************************************************************\n",
      "\n",
      "************************************************************************\n",
      "1) Start local server:\n",
      "    cd /home/guangda/repos/labelmaker-mix3d/saved/evaluation_scannet20/validation_2024-02-29_1114/pyviz/scene0701_00; python -m http.server 6008\n",
      "2) Open in browser:\n",
      "    http://0.0.0.0:6008\n",
      "************************************************************************\n",
      "\n",
      "************************************************************************\n",
      "1) Start local server:\n",
      "    cd /home/guangda/repos/labelmaker-mix3d/saved/evaluation_scannet20/validation_2024-02-29_1114/pyviz/scene0684_00; python -m http.server 6008\n",
      "2) Open in browser:\n",
      "    http://0.0.0.0:6008\n",
      "************************************************************************\n"
     ]
    },
    {
     "name": "stderr",
     "output_type": "stream",
     "text": [
      "225it [00:13, 19.35it/s]"
     ]
    },
    {
     "name": "stdout",
     "output_type": "stream",
     "text": [
      "\n",
      "************************************************************************\n",
      "1) Start local server:\n",
      "    cd /home/guangda/repos/labelmaker-mix3d/saved/evaluation_scannet20/validation_2024-02-29_1114/pyviz/scene0144_00; python -m http.server 6008\n",
      "2) Open in browser:\n",
      "    http://0.0.0.0:6008\n",
      "************************************************************************\n",
      "\n",
      "************************************************************************\n",
      "1) Start local server:\n",
      "    cd /home/guangda/repos/labelmaker-mix3d/saved/evaluation_scannet20/validation_2024-02-29_1114/pyviz/scene0222_01; python -m http.server 6008\n",
      "2) Open in browser:\n",
      "    http://0.0.0.0:6008\n",
      "************************************************************************\n",
      "\n",
      "************************************************************************\n",
      "1) Start local server:\n",
      "    cd /home/guangda/repos/labelmaker-mix3d/saved/evaluation_scannet20/validation_2024-02-29_1114/pyviz/scene0701_01; python -m http.server 6008\n",
      "2) Open in browser:\n",
      "    http://0.0.0.0:6008\n",
      "************************************************************************\n",
      "\n",
      "************************************************************************\n",
      "1) Start local server:\n",
      "    cd /home/guangda/repos/labelmaker-mix3d/saved/evaluation_scannet20/validation_2024-02-29_1114/pyviz/scene0406_00; python -m http.server 6008\n",
      "2) Open in browser:\n",
      "    http://0.0.0.0:6008\n",
      "************************************************************************\n",
      "\n",
      "************************************************************************\n",
      "1) Start local server:\n",
      "    cd /home/guangda/repos/labelmaker-mix3d/saved/evaluation_scannet20/validation_2024-02-29_1114/pyviz/scene0256_01; python -m http.server 6008\n",
      "2) Open in browser:\n",
      "    http://0.0.0.0:6008\n",
      "************************************************************************\n"
     ]
    },
    {
     "name": "stderr",
     "output_type": "stream",
     "text": [
      "232it [00:13, 23.50it/s]"
     ]
    },
    {
     "name": "stdout",
     "output_type": "stream",
     "text": [
      "\n",
      "************************************************************************\n",
      "1) Start local server:\n",
      "    cd /home/guangda/repos/labelmaker-mix3d/saved/evaluation_scannet20/validation_2024-02-29_1114/pyviz/scene0652_00; python -m http.server 6008\n",
      "2) Open in browser:\n",
      "    http://0.0.0.0:6008\n",
      "************************************************************************\n",
      "\n",
      "************************************************************************\n",
      "1) Start local server:\n",
      "    cd /home/guangda/repos/labelmaker-mix3d/saved/evaluation_scannet20/validation_2024-02-29_1114/pyviz/scene0328_00; python -m http.server 6008\n",
      "2) Open in browser:\n",
      "    http://0.0.0.0:6008\n",
      "************************************************************************\n",
      "\n",
      "************************************************************************\n",
      "1) Start local server:\n",
      "    cd /home/guangda/repos/labelmaker-mix3d/saved/evaluation_scannet20/validation_2024-02-29_1114/pyviz/scene0580_00; python -m http.server 6008\n",
      "2) Open in browser:\n",
      "    http://0.0.0.0:6008\n",
      "************************************************************************\n",
      "\n",
      "************************************************************************\n",
      "1) Start local server:\n",
      "    cd /home/guangda/repos/labelmaker-mix3d/saved/evaluation_scannet20/validation_2024-02-29_1114/pyviz/scene0702_02; python -m http.server 6008\n",
      "2) Open in browser:\n",
      "    http://0.0.0.0:6008\n",
      "************************************************************************\n",
      "\n",
      "************************************************************************\n",
      "1) Start local server:\n",
      "    cd /home/guangda/repos/labelmaker-mix3d/saved/evaluation_scannet20/validation_2024-02-29_1114/pyviz/scene0518_00; python -m http.server 6008\n",
      "2) Open in browser:\n",
      "    http://0.0.0.0:6008\n",
      "************************************************************************\n"
     ]
    },
    {
     "name": "stderr",
     "output_type": "stream",
     "text": [
      "235it [00:13, 23.55it/s]"
     ]
    },
    {
     "name": "stdout",
     "output_type": "stream",
     "text": [
      "\n",
      "************************************************************************\n",
      "1) Start local server:\n",
      "    cd /home/guangda/repos/labelmaker-mix3d/saved/evaluation_scannet20/validation_2024-02-29_1114/pyviz/scene0300_01; python -m http.server 6008\n",
      "2) Open in browser:\n",
      "    http://0.0.0.0:6008\n",
      "************************************************************************\n",
      "\n",
      "************************************************************************\n",
      "1) Start local server:\n",
      "    cd /home/guangda/repos/labelmaker-mix3d/saved/evaluation_scannet20/validation_2024-02-29_1114/pyviz/scene0663_02; python -m http.server 6008\n",
      "2) Open in browser:\n",
      "    http://0.0.0.0:6008\n",
      "************************************************************************\n",
      "\n",
      "************************************************************************\n",
      "1) Start local server:\n",
      "    cd /home/guangda/repos/labelmaker-mix3d/saved/evaluation_scannet20/validation_2024-02-29_1114/pyviz/scene0550_00; python -m http.server 6008\n",
      "2) Open in browser:\n",
      "    http://0.0.0.0:6008\n",
      "************************************************************************\n",
      "\n",
      "************************************************************************\n",
      "1) Start local server:\n",
      "    cd /home/guangda/repos/labelmaker-mix3d/saved/evaluation_scannet20/validation_2024-02-29_1114/pyviz/scene0378_02; python -m http.server 6008\n",
      "2) Open in browser:\n",
      "    http://0.0.0.0:6008\n",
      "************************************************************************\n"
     ]
    },
    {
     "name": "stderr",
     "output_type": "stream",
     "text": [
      "241it [00:13, 19.99it/s]"
     ]
    },
    {
     "name": "stdout",
     "output_type": "stream",
     "text": [
      "\n",
      "************************************************************************\n",
      "1) Start local server:\n",
      "    cd /home/guangda/repos/labelmaker-mix3d/saved/evaluation_scannet20/validation_2024-02-29_1114/pyviz/scene0030_02; python -m http.server 6008\n",
      "2) Open in browser:\n",
      "    http://0.0.0.0:6008\n",
      "************************************************************************\n",
      "\n",
      "************************************************************************\n",
      "1) Start local server:\n",
      "    cd /home/guangda/repos/labelmaker-mix3d/saved/evaluation_scannet20/validation_2024-02-29_1114/pyviz/scene0591_00; python -m http.server 6008\n",
      "2) Open in browser:\n",
      "    http://0.0.0.0:6008\n",
      "************************************************************************\n",
      "\n",
      "************************************************************************\n",
      "1) Start local server:\n",
      "    cd /home/guangda/repos/labelmaker-mix3d/saved/evaluation_scannet20/validation_2024-02-29_1114/pyviz/scene0690_00; python -m http.server 6008\n",
      "2) Open in browser:\n",
      "    http://0.0.0.0:6008\n",
      "************************************************************************\n",
      "\n",
      "************************************************************************\n",
      "1) Start local server:\n",
      "    cd /home/guangda/repos/labelmaker-mix3d/saved/evaluation_scannet20/validation_2024-02-29_1114/pyviz/scene0187_01; python -m http.server 6008\n",
      "2) Open in browser:\n",
      "    http://0.0.0.0:6008\n",
      "************************************************************************\n"
     ]
    },
    {
     "name": "stderr",
     "output_type": "stream",
     "text": [
      "244it [00:14, 18.57it/s]"
     ]
    },
    {
     "name": "stdout",
     "output_type": "stream",
     "text": [
      "\n",
      "************************************************************************\n",
      "1) Start local server:\n",
      "    cd /home/guangda/repos/labelmaker-mix3d/saved/evaluation_scannet20/validation_2024-02-29_1114/pyviz/scene0629_02; python -m http.server 6008\n",
      "2) Open in browser:\n",
      "    http://0.0.0.0:6008\n",
      "************************************************************************\n",
      "\n",
      "************************************************************************\n",
      "1) Start local server:\n",
      "    cd /home/guangda/repos/labelmaker-mix3d/saved/evaluation_scannet20/validation_2024-02-29_1114/pyviz/scene0593_00; python -m http.server 6008\n",
      "2) Open in browser:\n",
      "    http://0.0.0.0:6008\n",
      "************************************************************************\n",
      "\n",
      "************************************************************************\n",
      "1) Start local server:\n",
      "    cd /home/guangda/repos/labelmaker-mix3d/saved/evaluation_scannet20/validation_2024-02-29_1114/pyviz/scene0077_01; python -m http.server 6008\n",
      "2) Open in browser:\n",
      "    http://0.0.0.0:6008\n",
      "************************************************************************\n"
     ]
    },
    {
     "name": "stderr",
     "output_type": "stream",
     "text": [
      "248it [00:14, 17.12it/s]"
     ]
    },
    {
     "name": "stdout",
     "output_type": "stream",
     "text": [
      "\n",
      "************************************************************************\n",
      "1) Start local server:\n",
      "    cd /home/guangda/repos/labelmaker-mix3d/saved/evaluation_scannet20/validation_2024-02-29_1114/pyviz/scene0435_01; python -m http.server 6008\n",
      "2) Open in browser:\n",
      "    http://0.0.0.0:6008\n",
      "************************************************************************\n",
      "\n",
      "************************************************************************\n",
      "1) Start local server:\n",
      "    cd /home/guangda/repos/labelmaker-mix3d/saved/evaluation_scannet20/validation_2024-02-29_1114/pyviz/scene0575_02; python -m http.server 6008\n",
      "2) Open in browser:\n",
      "    http://0.0.0.0:6008\n",
      "************************************************************************\n",
      "\n",
      "************************************************************************\n",
      "1) Start local server:\n",
      "    cd /home/guangda/repos/labelmaker-mix3d/saved/evaluation_scannet20/validation_2024-02-29_1114/pyviz/scene0353_01; python -m http.server 6008\n",
      "2) Open in browser:\n",
      "    http://0.0.0.0:6008\n",
      "************************************************************************\n",
      "\n",
      "************************************************************************\n",
      "1) Start local server:\n",
      "    cd /home/guangda/repos/labelmaker-mix3d/saved/evaluation_scannet20/validation_2024-02-29_1114/pyviz/scene0382_00; python -m http.server 6008\n",
      "2) Open in browser:\n",
      "    http://0.0.0.0:6008\n",
      "************************************************************************\n"
     ]
    },
    {
     "name": "stderr",
     "output_type": "stream",
     "text": [
      "251it [00:14, 18.82it/s]"
     ]
    },
    {
     "name": "stdout",
     "output_type": "stream",
     "text": [
      "\n",
      "************************************************************************\n",
      "1) Start local server:\n",
      "    cd /home/guangda/repos/labelmaker-mix3d/saved/evaluation_scannet20/validation_2024-02-29_1114/pyviz/scene0430_01; python -m http.server 6008\n",
      "2) Open in browser:\n",
      "    http://0.0.0.0:6008\n",
      "************************************************************************\n",
      "\n",
      "************************************************************************\n",
      "1) Start local server:\n",
      "    cd /home/guangda/repos/labelmaker-mix3d/saved/evaluation_scannet20/validation_2024-02-29_1114/pyviz/scene0316_00; python -m http.server 6008\n",
      "2) Open in browser:\n",
      "    http://0.0.0.0:6008\n",
      "************************************************************************\n",
      "\n",
      "************************************************************************\n",
      "1) Start local server:\n",
      "    cd /home/guangda/repos/labelmaker-mix3d/saved/evaluation_scannet20/validation_2024-02-29_1114/pyviz/scene0699_00; python -m http.server 6008\n",
      "2) Open in browser:\n",
      "    http://0.0.0.0:6008\n",
      "************************************************************************\n",
      "\n",
      "************************************************************************\n",
      "1) Start local server:\n",
      "    cd /home/guangda/repos/labelmaker-mix3d/saved/evaluation_scannet20/validation_2024-02-29_1114/pyviz/scene0050_02; python -m http.server 6008\n",
      "2) Open in browser:\n",
      "    http://0.0.0.0:6008\n",
      "************************************************************************\n"
     ]
    },
    {
     "name": "stderr",
     "output_type": "stream",
     "text": [
      "253it [00:14, 15.56it/s]"
     ]
    },
    {
     "name": "stdout",
     "output_type": "stream",
     "text": [
      "\n",
      "************************************************************************\n",
      "1) Start local server:\n",
      "    cd /home/guangda/repos/labelmaker-mix3d/saved/evaluation_scannet20/validation_2024-02-29_1114/pyviz/scene0307_00; python -m http.server 6008\n",
      "2) Open in browser:\n",
      "    http://0.0.0.0:6008\n",
      "************************************************************************\n",
      "\n",
      "************************************************************************\n",
      "1) Start local server:\n",
      "    cd /home/guangda/repos/labelmaker-mix3d/saved/evaluation_scannet20/validation_2024-02-29_1114/pyviz/scene0095_00; python -m http.server 6008\n",
      "2) Open in browser:\n",
      "    http://0.0.0.0:6008\n",
      "************************************************************************\n"
     ]
    },
    {
     "name": "stderr",
     "output_type": "stream",
     "text": [
      "258it [00:15, 16.26it/s]"
     ]
    },
    {
     "name": "stdout",
     "output_type": "stream",
     "text": [
      "\n",
      "************************************************************************\n",
      "1) Start local server:\n",
      "    cd /home/guangda/repos/labelmaker-mix3d/saved/evaluation_scannet20/validation_2024-02-29_1114/pyviz/scene0207_02; python -m http.server 6008\n",
      "2) Open in browser:\n",
      "    http://0.0.0.0:6008\n",
      "************************************************************************\n",
      "\n",
      "************************************************************************\n",
      "1) Start local server:\n",
      "    cd /home/guangda/repos/labelmaker-mix3d/saved/evaluation_scannet20/validation_2024-02-29_1114/pyviz/scene0607_00; python -m http.server 6008\n",
      "2) Open in browser:\n",
      "    http://0.0.0.0:6008\n",
      "************************************************************************\n",
      "\n",
      "************************************************************************\n",
      "1) Start local server:\n",
      "    cd /home/guangda/repos/labelmaker-mix3d/saved/evaluation_scannet20/validation_2024-02-29_1114/pyviz/scene0356_02; python -m http.server 6008\n",
      "2) Open in browser:\n",
      "    http://0.0.0.0:6008\n",
      "************************************************************************\n",
      "\n",
      "************************************************************************\n",
      "1) Start local server:\n",
      "    cd /home/guangda/repos/labelmaker-mix3d/saved/evaluation_scannet20/validation_2024-02-29_1114/pyviz/scene0559_00; python -m http.server 6008\n",
      "2) Open in browser:\n",
      "    http://0.0.0.0:6008\n",
      "************************************************************************\n",
      "\n",
      "************************************************************************\n",
      "1) Start local server:\n",
      "    cd /home/guangda/repos/labelmaker-mix3d/saved/evaluation_scannet20/validation_2024-02-29_1114/pyviz/scene0671_01; python -m http.server 6008\n",
      "2) Open in browser:\n",
      "    http://0.0.0.0:6008\n",
      "************************************************************************\n"
     ]
    },
    {
     "name": "stderr",
     "output_type": "stream",
     "text": [
      "261it [00:15, 17.61it/s]"
     ]
    },
    {
     "name": "stdout",
     "output_type": "stream",
     "text": [
      "\n",
      "************************************************************************\n",
      "1) Start local server:\n",
      "    cd /home/guangda/repos/labelmaker-mix3d/saved/evaluation_scannet20/validation_2024-02-29_1114/pyviz/scene0353_02; python -m http.server 6008\n",
      "2) Open in browser:\n",
      "    http://0.0.0.0:6008\n",
      "************************************************************************\n",
      "\n",
      "************************************************************************\n",
      "1) Start local server:\n",
      "    cd /home/guangda/repos/labelmaker-mix3d/saved/evaluation_scannet20/validation_2024-02-29_1114/pyviz/scene0583_00; python -m http.server 6008\n",
      "2) Open in browser:\n",
      "    http://0.0.0.0:6008\n",
      "************************************************************************\n",
      "\n",
      "************************************************************************\n",
      "1) Start local server:\n",
      "    cd /home/guangda/repos/labelmaker-mix3d/saved/evaluation_scannet20/validation_2024-02-29_1114/pyviz/scene0671_00; python -m http.server 6008\n",
      "2) Open in browser:\n",
      "    http://0.0.0.0:6008\n",
      "************************************************************************\n",
      "\n",
      "************************************************************************\n",
      "1) Start local server:\n",
      "    cd /home/guangda/repos/labelmaker-mix3d/saved/evaluation_scannet20/validation_2024-02-29_1114/pyviz/scene0558_01; python -m http.server 6008\n",
      "2) Open in browser:\n",
      "    http://0.0.0.0:6008\n",
      "************************************************************************\n"
     ]
    },
    {
     "name": "stderr",
     "output_type": "stream",
     "text": [
      "264it [00:15, 16.08it/s]"
     ]
    },
    {
     "name": "stdout",
     "output_type": "stream",
     "text": [
      "\n",
      "************************************************************************\n",
      "1) Start local server:\n",
      "    cd /home/guangda/repos/labelmaker-mix3d/saved/evaluation_scannet20/validation_2024-02-29_1114/pyviz/scene0500_00; python -m http.server 6008\n",
      "2) Open in browser:\n",
      "    http://0.0.0.0:6008\n",
      "************************************************************************\n",
      "\n",
      "************************************************************************\n",
      "1) Start local server:\n",
      "    cd /home/guangda/repos/labelmaker-mix3d/saved/evaluation_scannet20/validation_2024-02-29_1114/pyviz/scene0645_01; python -m http.server 6008\n",
      "2) Open in browser:\n",
      "    http://0.0.0.0:6008\n",
      "************************************************************************\n"
     ]
    },
    {
     "name": "stderr",
     "output_type": "stream",
     "text": [
      "269it [00:15, 15.82it/s]"
     ]
    },
    {
     "name": "stdout",
     "output_type": "stream",
     "text": [
      "\n",
      "************************************************************************\n",
      "1) Start local server:\n",
      "    cd /home/guangda/repos/labelmaker-mix3d/saved/evaluation_scannet20/validation_2024-02-29_1114/pyviz/scene0618_00; python -m http.server 6008\n",
      "2) Open in browser:\n",
      "    http://0.0.0.0:6008\n",
      "************************************************************************\n",
      "\n",
      "************************************************************************\n",
      "1) Start local server:\n",
      "    cd /home/guangda/repos/labelmaker-mix3d/saved/evaluation_scannet20/validation_2024-02-29_1114/pyviz/scene0338_01; python -m http.server 6008\n",
      "2) Open in browser:\n",
      "    http://0.0.0.0:6008\n",
      "************************************************************************\n",
      "\n",
      "************************************************************************\n",
      "1) Start local server:\n",
      "    cd /home/guangda/repos/labelmaker-mix3d/saved/evaluation_scannet20/validation_2024-02-29_1114/pyviz/scene0304_00; python -m http.server 6008\n",
      "2) Open in browser:\n",
      "    http://0.0.0.0:6008\n",
      "************************************************************************\n",
      "\n",
      "************************************************************************\n",
      "1) Start local server:\n",
      "    cd /home/guangda/repos/labelmaker-mix3d/saved/evaluation_scannet20/validation_2024-02-29_1114/pyviz/scene0426_03; python -m http.server 6008\n",
      "2) Open in browser:\n",
      "    http://0.0.0.0:6008\n",
      "************************************************************************\n",
      "\n",
      "************************************************************************\n",
      "1) Start local server:\n",
      "    cd /home/guangda/repos/labelmaker-mix3d/saved/evaluation_scannet20/validation_2024-02-29_1114/pyviz/scene0553_01; python -m http.server 6008\n",
      "2) Open in browser:\n",
      "    http://0.0.0.0:6008\n",
      "************************************************************************\n"
     ]
    },
    {
     "name": "stderr",
     "output_type": "stream",
     "text": [
      "274it [00:16, 17.54it/s]"
     ]
    },
    {
     "name": "stdout",
     "output_type": "stream",
     "text": [
      "\n",
      "************************************************************************\n",
      "1) Start local server:\n",
      "    cd /home/guangda/repos/labelmaker-mix3d/saved/evaluation_scannet20/validation_2024-02-29_1114/pyviz/scene0144_01; python -m http.server 6008\n",
      "2) Open in browser:\n",
      "    http://0.0.0.0:6008\n",
      "************************************************************************\n",
      "\n",
      "************************************************************************\n",
      "1) Start local server:\n",
      "    cd /home/guangda/repos/labelmaker-mix3d/saved/evaluation_scannet20/validation_2024-02-29_1114/pyviz/scene0246_00; python -m http.server 6008\n",
      "2) Open in browser:\n",
      "    http://0.0.0.0:6008\n",
      "************************************************************************\n",
      "\n",
      "************************************************************************\n",
      "1) Start local server:\n",
      "    cd /home/guangda/repos/labelmaker-mix3d/saved/evaluation_scannet20/validation_2024-02-29_1114/pyviz/scene0474_02; python -m http.server 6008\n",
      "2) Open in browser:\n",
      "    http://0.0.0.0:6008\n",
      "************************************************************************\n",
      "\n",
      "************************************************************************\n",
      "1) Start local server:\n",
      "    cd /home/guangda/repos/labelmaker-mix3d/saved/evaluation_scannet20/validation_2024-02-29_1114/pyviz/scene0100_00; python -m http.server 6008\n",
      "2) Open in browser:\n",
      "    http://0.0.0.0:6008\n",
      "************************************************************************\n"
     ]
    },
    {
     "name": "stderr",
     "output_type": "stream",
     "text": [
      "280it [00:16, 23.41it/s]"
     ]
    },
    {
     "name": "stdout",
     "output_type": "stream",
     "text": [
      "\n",
      "************************************************************************\n",
      "1) Start local server:\n",
      "    cd /home/guangda/repos/labelmaker-mix3d/saved/evaluation_scannet20/validation_2024-02-29_1114/pyviz/scene0609_02; python -m http.server 6008\n",
      "2) Open in browser:\n",
      "    http://0.0.0.0:6008\n",
      "************************************************************************\n",
      "\n",
      "************************************************************************\n",
      "1) Start local server:\n",
      "    cd /home/guangda/repos/labelmaker-mix3d/saved/evaluation_scannet20/validation_2024-02-29_1114/pyviz/scene0599_01; python -m http.server 6008\n",
      "2) Open in browser:\n",
      "    http://0.0.0.0:6008\n",
      "************************************************************************\n",
      "\n",
      "************************************************************************\n",
      "1) Start local server:\n",
      "    cd /home/guangda/repos/labelmaker-mix3d/saved/evaluation_scannet20/validation_2024-02-29_1114/pyviz/scene0574_01; python -m http.server 6008\n",
      "2) Open in browser:\n",
      "    http://0.0.0.0:6008\n",
      "************************************************************************\n",
      "\n",
      "************************************************************************\n",
      "1) Start local server:\n",
      "    cd /home/guangda/repos/labelmaker-mix3d/saved/evaluation_scannet20/validation_2024-02-29_1114/pyviz/scene0338_00; python -m http.server 6008\n",
      "2) Open in browser:\n",
      "    http://0.0.0.0:6008\n",
      "************************************************************************\n",
      "\n",
      "************************************************************************\n",
      "1) Start local server:\n",
      "    cd /home/guangda/repos/labelmaker-mix3d/saved/evaluation_scannet20/validation_2024-02-29_1114/pyviz/scene0432_00; python -m http.server 6008\n",
      "2) Open in browser:\n",
      "    http://0.0.0.0:6008\n",
      "************************************************************************\n",
      "\n",
      "************************************************************************\n",
      "1) Start local server:\n",
      "    cd /home/guangda/repos/labelmaker-mix3d/saved/evaluation_scannet20/validation_2024-02-29_1114/pyviz/scene0664_00; python -m http.server 6008\n",
      "2) Open in browser:\n",
      "    http://0.0.0.0:6008\n",
      "************************************************************************\n",
      "\n",
      "************************************************************************\n",
      "1) Start local server:\n",
      "    cd /home/guangda/repos/labelmaker-mix3d/saved/evaluation_scannet20/validation_2024-02-29_1114/pyviz/scene0693_02; python -m http.server 6008\n",
      "2) Open in browser:\n",
      "    http://0.0.0.0:6008\n",
      "************************************************************************\n"
     ]
    },
    {
     "name": "stderr",
     "output_type": "stream",
     "text": [
      "284it [00:16, 25.82it/s]"
     ]
    },
    {
     "name": "stdout",
     "output_type": "stream",
     "text": [
      "\n",
      "************************************************************************\n",
      "1) Start local server:\n",
      "    cd /home/guangda/repos/labelmaker-mix3d/saved/evaluation_scannet20/validation_2024-02-29_1114/pyviz/scene0488_01; python -m http.server 6008\n",
      "2) Open in browser:\n",
      "    http://0.0.0.0:6008\n",
      "************************************************************************\n",
      "\n",
      "************************************************************************\n",
      "1) Start local server:\n",
      "    cd /home/guangda/repos/labelmaker-mix3d/saved/evaluation_scannet20/validation_2024-02-29_1114/pyviz/scene0406_02; python -m http.server 6008\n",
      "2) Open in browser:\n",
      "    http://0.0.0.0:6008\n",
      "************************************************************************\n",
      "\n",
      "************************************************************************\n",
      "1) Start local server:\n",
      "    cd /home/guangda/repos/labelmaker-mix3d/saved/evaluation_scannet20/validation_2024-02-29_1114/pyviz/scene0355_00; python -m http.server 6008\n",
      "2) Open in browser:\n",
      "    http://0.0.0.0:6008\n",
      "************************************************************************\n",
      "\n",
      "************************************************************************\n",
      "1) Start local server:\n",
      "    cd /home/guangda/repos/labelmaker-mix3d/saved/evaluation_scannet20/validation_2024-02-29_1114/pyviz/scene0599_00; python -m http.server 6008\n",
      "2) Open in browser:\n",
      "    http://0.0.0.0:6008\n",
      "************************************************************************\n",
      "\n",
      "************************************************************************\n",
      "1) Start local server:\n",
      "    cd /home/guangda/repos/labelmaker-mix3d/saved/evaluation_scannet20/validation_2024-02-29_1114/pyviz/scene0423_00; python -m http.server 6008\n",
      "2) Open in browser:\n",
      "    http://0.0.0.0:6008\n",
      "************************************************************************\n"
     ]
    },
    {
     "name": "stderr",
     "output_type": "stream",
     "text": [
      "290it [00:16, 20.91it/s]"
     ]
    },
    {
     "name": "stdout",
     "output_type": "stream",
     "text": [
      "\n",
      "************************************************************************\n",
      "1) Start local server:\n",
      "    cd /home/guangda/repos/labelmaker-mix3d/saved/evaluation_scannet20/validation_2024-02-29_1114/pyviz/scene0608_01; python -m http.server 6008\n",
      "2) Open in browser:\n",
      "    http://0.0.0.0:6008\n",
      "************************************************************************\n",
      "\n",
      "************************************************************************\n",
      "1) Start local server:\n",
      "    cd /home/guangda/repos/labelmaker-mix3d/saved/evaluation_scannet20/validation_2024-02-29_1114/pyviz/scene0704_00; python -m http.server 6008\n",
      "2) Open in browser:\n",
      "    http://0.0.0.0:6008\n",
      "************************************************************************\n",
      "\n",
      "************************************************************************\n",
      "1) Start local server:\n",
      "    cd /home/guangda/repos/labelmaker-mix3d/saved/evaluation_scannet20/validation_2024-02-29_1114/pyviz/scene0665_00; python -m http.server 6008\n",
      "2) Open in browser:\n",
      "    http://0.0.0.0:6008\n",
      "************************************************************************\n",
      "\n",
      "************************************************************************\n",
      "1) Start local server:\n",
      "    cd /home/guangda/repos/labelmaker-mix3d/saved/evaluation_scannet20/validation_2024-02-29_1114/pyviz/scene0685_00; python -m http.server 6008\n",
      "2) Open in browser:\n",
      "    http://0.0.0.0:6008\n",
      "************************************************************************\n"
     ]
    },
    {
     "name": "stderr",
     "output_type": "stream",
     "text": [
      "293it [00:16, 18.55it/s]"
     ]
    },
    {
     "name": "stdout",
     "output_type": "stream",
     "text": [
      "\n",
      "************************************************************************\n",
      "1) Start local server:\n",
      "    cd /home/guangda/repos/labelmaker-mix3d/saved/evaluation_scannet20/validation_2024-02-29_1114/pyviz/scene0678_02; python -m http.server 6008\n",
      "2) Open in browser:\n",
      "    http://0.0.0.0:6008\n",
      "************************************************************************\n",
      "\n",
      "************************************************************************\n",
      "1) Start local server:\n",
      "    cd /home/guangda/repos/labelmaker-mix3d/saved/evaluation_scannet20/validation_2024-02-29_1114/pyviz/scene0355_01; python -m http.server 6008\n",
      "2) Open in browser:\n",
      "    http://0.0.0.0:6008\n",
      "************************************************************************\n",
      "\n",
      "************************************************************************\n",
      "1) Start local server:\n",
      "    cd /home/guangda/repos/labelmaker-mix3d/saved/evaluation_scannet20/validation_2024-02-29_1114/pyviz/scene0412_00; python -m http.server 6008\n",
      "2) Open in browser:\n",
      "    http://0.0.0.0:6008\n",
      "************************************************************************\n",
      "\n",
      "************************************************************************\n",
      "1) Start local server:\n",
      "    cd /home/guangda/repos/labelmaker-mix3d/saved/evaluation_scannet20/validation_2024-02-29_1114/pyviz/scene0084_02; python -m http.server 6008\n",
      "2) Open in browser:\n",
      "    http://0.0.0.0:6008\n",
      "************************************************************************\n"
     ]
    },
    {
     "name": "stderr",
     "output_type": "stream",
     "text": [
      "298it [00:17, 16.29it/s]"
     ]
    },
    {
     "name": "stdout",
     "output_type": "stream",
     "text": [
      "\n",
      "************************************************************************\n",
      "1) Start local server:\n",
      "    cd /home/guangda/repos/labelmaker-mix3d/saved/evaluation_scannet20/validation_2024-02-29_1114/pyviz/scene0208_00; python -m http.server 6008\n",
      "2) Open in browser:\n",
      "    http://0.0.0.0:6008\n",
      "************************************************************************\n",
      "\n",
      "************************************************************************\n",
      "1) Start local server:\n",
      "    cd /home/guangda/repos/labelmaker-mix3d/saved/evaluation_scannet20/validation_2024-02-29_1114/pyviz/scene0277_01; python -m http.server 6008\n",
      "2) Open in browser:\n",
      "    http://0.0.0.0:6008\n",
      "************************************************************************\n",
      "\n",
      "************************************************************************\n",
      "1) Start local server:\n",
      "    cd /home/guangda/repos/labelmaker-mix3d/saved/evaluation_scannet20/validation_2024-02-29_1114/pyviz/scene0203_00; python -m http.server 6008\n",
      "2) Open in browser:\n",
      "    http://0.0.0.0:6008\n",
      "************************************************************************\n",
      "\n",
      "************************************************************************\n",
      "1) Start local server:\n",
      "    cd /home/guangda/repos/labelmaker-mix3d/saved/evaluation_scannet20/validation_2024-02-29_1114/pyviz/scene0343_00; python -m http.server 6008\n",
      "2) Open in browser:\n",
      "    http://0.0.0.0:6008\n",
      "************************************************************************\n",
      "\n",
      "************************************************************************\n",
      "1) Start local server:\n",
      "    cd /home/guangda/repos/labelmaker-mix3d/saved/evaluation_scannet20/validation_2024-02-29_1114/pyviz/scene0338_02; python -m http.server 6008\n",
      "2) Open in browser:\n",
      "    http://0.0.0.0:6008\n",
      "************************************************************************\n"
     ]
    },
    {
     "name": "stderr",
     "output_type": "stream",
     "text": [
      "302it [00:17, 14.66it/s]"
     ]
    },
    {
     "name": "stdout",
     "output_type": "stream",
     "text": [
      "\n",
      "************************************************************************\n",
      "1) Start local server:\n",
      "    cd /home/guangda/repos/labelmaker-mix3d/saved/evaluation_scannet20/validation_2024-02-29_1114/pyviz/scene0665_01; python -m http.server 6008\n",
      "2) Open in browser:\n",
      "    http://0.0.0.0:6008\n",
      "************************************************************************\n",
      "\n",
      "************************************************************************\n",
      "1) Start local server:\n",
      "    cd /home/guangda/repos/labelmaker-mix3d/saved/evaluation_scannet20/validation_2024-02-29_1114/pyviz/scene0568_00; python -m http.server 6008\n",
      "2) Open in browser:\n",
      "    http://0.0.0.0:6008\n",
      "************************************************************************\n",
      "\n",
      "************************************************************************\n",
      "1) Start local server:\n",
      "    cd /home/guangda/repos/labelmaker-mix3d/saved/evaluation_scannet20/validation_2024-02-29_1114/pyviz/scene0616_01; python -m http.server 6008\n",
      "2) Open in browser:\n",
      "    http://0.0.0.0:6008\n",
      "************************************************************************\n"
     ]
    },
    {
     "name": "stderr",
     "output_type": "stream",
     "text": [
      "307it [00:17, 17.80it/s]"
     ]
    },
    {
     "name": "stdout",
     "output_type": "stream",
     "text": [
      "\n",
      "************************************************************************\n",
      "1) Start local server:\n",
      "    cd /home/guangda/repos/labelmaker-mix3d/saved/evaluation_scannet20/validation_2024-02-29_1114/pyviz/scene0496_00; python -m http.server 6008\n",
      "2) Open in browser:\n",
      "    http://0.0.0.0:6008\n",
      "************************************************************************\n",
      "\n",
      "************************************************************************\n",
      "1) Start local server:\n",
      "    cd /home/guangda/repos/labelmaker-mix3d/saved/evaluation_scannet20/validation_2024-02-29_1114/pyviz/scene0690_01; python -m http.server 6008\n",
      "2) Open in browser:\n",
      "    http://0.0.0.0:6008\n",
      "************************************************************************\n",
      "\n",
      "************************************************************************\n",
      "1) Start local server:\n",
      "    cd /home/guangda/repos/labelmaker-mix3d/saved/evaluation_scannet20/validation_2024-02-29_1114/pyviz/scene0607_01; python -m http.server 6008\n",
      "2) Open in browser:\n",
      "    http://0.0.0.0:6008\n",
      "************************************************************************\n",
      "\n",
      "************************************************************************\n",
      "1) Start local server:\n",
      "    cd /home/guangda/repos/labelmaker-mix3d/saved/evaluation_scannet20/validation_2024-02-29_1114/pyviz/scene0549_01; python -m http.server 6008\n",
      "2) Open in browser:\n",
      "    http://0.0.0.0:6008\n",
      "************************************************************************\n",
      "\n",
      "************************************************************************\n",
      "1) Start local server:\n",
      "    cd /home/guangda/repos/labelmaker-mix3d/saved/evaluation_scannet20/validation_2024-02-29_1114/pyviz/scene0146_01; python -m http.server 6008\n",
      "2) Open in browser:\n",
      "    http://0.0.0.0:6008\n",
      "************************************************************************\n"
     ]
    },
    {
     "name": "stderr",
     "output_type": "stream",
     "text": [
      "309it [00:17, 15.73it/s]"
     ]
    },
    {
     "name": "stdout",
     "output_type": "stream",
     "text": [
      "\n",
      "************************************************************************\n",
      "1) Start local server:\n",
      "    cd /home/guangda/repos/labelmaker-mix3d/saved/evaluation_scannet20/validation_2024-02-29_1114/pyviz/scene0591_01; python -m http.server 6008\n",
      "2) Open in browser:\n",
      "    http://0.0.0.0:6008\n",
      "************************************************************************\n",
      "\n",
      "************************************************************************\n",
      "1) Start local server:\n",
      "    cd /home/guangda/repos/labelmaker-mix3d/saved/evaluation_scannet20/validation_2024-02-29_1114/pyviz/scene0030_01; python -m http.server 6008\n",
      "2) Open in browser:\n",
      "    http://0.0.0.0:6008\n",
      "************************************************************************\n",
      "\n",
      "************************************************************************\n",
      "1) Start local server:\n",
      "    cd /home/guangda/repos/labelmaker-mix3d/saved/evaluation_scannet20/validation_2024-02-29_1114/pyviz/scene0196_00; python -m http.server 6008\n",
      "2) Open in browser:\n",
      "    http://0.0.0.0:6008\n",
      "************************************************************************\n",
      "\n",
      "************************************************************************\n",
      "1) Start local server:\n",
      "    cd /home/guangda/repos/labelmaker-mix3d/saved/evaluation_scannet20/validation_2024-02-29_1114/pyviz/scene0278_01; python -m http.server 6008\n",
      "2) Open in browser:\n",
      "    http://0.0.0.0:6008\n",
      "************************************************************************\n"
     ]
    },
    {
     "name": "stderr",
     "output_type": "stream",
     "text": [
      "312it [00:18, 17.24it/s]"
     ]
    },
    {
     "name": "stdout",
     "output_type": "stream",
     "text": [
      "\n",
      "************************************************************************\n",
      "1) Start local server:\n",
      "    cd /home/guangda/repos/labelmaker-mix3d/saved/evaluation_scannet20/validation_2024-02-29_1114/pyviz/scene0353_00; python -m http.server 6008\n",
      "2) Open in browser:\n",
      "    http://0.0.0.0:6008\n",
      "************************************************************************\n"
     ]
    },
    {
     "name": "stderr",
     "output_type": "stream",
     "text": [
      "\n"
     ]
    }
   ],
   "source": [
    "viz_pyviz(\n",
    "    submission_dir=\"/home/guangda/repos/labelmaker-mix3d/saved/evaluation_scannet20/validation_2024-02-29_1114/submission_oversegmentation_refined\",\n",
    "    scannet_data_dir=\"/home/guangda/scannet_rsync\"\n",
    ")"
   ]
  },
  {
   "cell_type": "code",
   "execution_count": null,
   "metadata": {},
   "outputs": [],
   "source": []
  }
 ],
 "metadata": {
  "kernelspec": {
   "display_name": "labelmaker-mix3d",
   "language": "python",
   "name": "python3"
  },
  "language_info": {
   "codemirror_mode": {
    "name": "ipython",
    "version": 3
   },
   "file_extension": ".py",
   "mimetype": "text/x-python",
   "name": "python",
   "nbconvert_exporter": "python",
   "pygments_lexer": "ipython3",
   "version": "3.9.18"
  }
 },
 "nbformat": 4,
 "nbformat_minor": 2
}
